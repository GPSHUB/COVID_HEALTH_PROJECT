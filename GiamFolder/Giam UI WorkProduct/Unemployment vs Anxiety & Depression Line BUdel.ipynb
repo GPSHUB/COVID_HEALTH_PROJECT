{
 "cells": [
  {
   "cell_type": "code",
   "execution_count": 1,
   "metadata": {},
   "outputs": [
    {
     "data": {
      "text/html": [
       "<div>\n",
       "<style scoped>\n",
       "    .dataframe tbody tr th:only-of-type {\n",
       "        vertical-align: middle;\n",
       "    }\n",
       "\n",
       "    .dataframe tbody tr th {\n",
       "        vertical-align: top;\n",
       "    }\n",
       "\n",
       "    .dataframe thead th {\n",
       "        text-align: right;\n",
       "    }\n",
       "</style>\n",
       "<table border=\"1\" class=\"dataframe\">\n",
       "  <thead>\n",
       "    <tr style=\"text-align: right;\">\n",
       "      <th></th>\n",
       "      <th>State</th>\n",
       "      <th>Filed week ended</th>\n",
       "      <th>Initial Claims</th>\n",
       "      <th>Reflecting Week Ended</th>\n",
       "      <th>Continued Claims</th>\n",
       "      <th>Covered Employment</th>\n",
       "      <th>Insured Unemployment Rate</th>\n",
       "      <th>Weeknum</th>\n",
       "      <th>Year</th>\n",
       "    </tr>\n",
       "  </thead>\n",
       "  <tbody>\n",
       "    <tr>\n",
       "      <th>0</th>\n",
       "      <td>California</td>\n",
       "      <td>2015-01-03</td>\n",
       "      <td>40,784</td>\n",
       "      <td>2014-12-27</td>\n",
       "      <td>420,154</td>\n",
       "      <td>15,245,478</td>\n",
       "      <td>2.76</td>\n",
       "      <td>52</td>\n",
       "      <td>2014</td>\n",
       "    </tr>\n",
       "    <tr>\n",
       "      <th>1</th>\n",
       "      <td>California</td>\n",
       "      <td>2015-01-10</td>\n",
       "      <td>66,906</td>\n",
       "      <td>2015-01-03</td>\n",
       "      <td>423,923</td>\n",
       "      <td>15,354,250</td>\n",
       "      <td>2.76</td>\n",
       "      <td>1</td>\n",
       "      <td>2015</td>\n",
       "    </tr>\n",
       "  </tbody>\n",
       "</table>\n",
       "</div>"
      ],
      "text/plain": [
       "        State Filed week ended Initial Claims Reflecting Week Ended  \\\n",
       "0  California       2015-01-03         40,784            2014-12-27   \n",
       "1  California       2015-01-10         66,906            2015-01-03   \n",
       "\n",
       "  Continued Claims Covered Employment  Insured Unemployment Rate  Weeknum  \\\n",
       "0          420,154         15,245,478                       2.76       52   \n",
       "1          423,923         15,354,250                       2.76        1   \n",
       "\n",
       "   Year  \n",
       "0  2014  \n",
       "1  2015  "
      ]
     },
     "execution_count": 1,
     "metadata": {},
     "output_type": "execute_result"
    }
   ],
   "source": [
    "# Dependencies and Setup\n",
    "import matplotlib.pyplot as plt\n",
    "import pandas as pd\n",
    "import numpy as np\n",
    "import requests\n",
    "from scipy.stats import linregress\n",
    "from pprint import pprint\n",
    "import json\n",
    "from datetime import datetime \n",
    "\n",
    "# Pull source UI file\n",
    "ui_clean = pd.read_csv(\"../Resources/ui_clean.csv\")\n",
    "ui_clean['Year'] = pd.DatetimeIndex(ui_clean['Reflecting Week Ended']).year\n",
    "ui_clean.head(2)"
   ]
  },
  {
   "cell_type": "code",
   "execution_count": 2,
   "metadata": {},
   "outputs": [
    {
     "data": {
      "text/html": [
       "<div>\n",
       "<style scoped>\n",
       "    .dataframe tbody tr th:only-of-type {\n",
       "        vertical-align: middle;\n",
       "    }\n",
       "\n",
       "    .dataframe tbody tr th {\n",
       "        vertical-align: top;\n",
       "    }\n",
       "\n",
       "    .dataframe thead th {\n",
       "        text-align: right;\n",
       "    }\n",
       "</style>\n",
       "<table border=\"1\" class=\"dataframe\">\n",
       "  <thead>\n",
       "    <tr style=\"text-align: right;\">\n",
       "      <th></th>\n",
       "      <th></th>\n",
       "      <th>Insured Unemployment Rate</th>\n",
       "    </tr>\n",
       "    <tr>\n",
       "      <th>State</th>\n",
       "      <th>Weeknum</th>\n",
       "      <th></th>\n",
       "    </tr>\n",
       "  </thead>\n",
       "  <tbody>\n",
       "    <tr>\n",
       "      <th rowspan=\"2\" valign=\"top\">California</th>\n",
       "      <th>1</th>\n",
       "      <td>2.06</td>\n",
       "    </tr>\n",
       "    <tr>\n",
       "      <th>2</th>\n",
       "      <td>2.18</td>\n",
       "    </tr>\n",
       "  </tbody>\n",
       "</table>\n",
       "</div>"
      ],
      "text/plain": [
       "                    Insured Unemployment Rate\n",
       "State      Weeknum                           \n",
       "California 1                             2.06\n",
       "           2                             2.18"
      ]
     },
     "execution_count": 2,
     "metadata": {},
     "output_type": "execute_result"
    }
   ],
   "source": [
    "ui_2020_parse = ui_clean[ui_clean[\"Year\"] == 2020]\n",
    "ui_2020 = ui_2020_parse.groupby(['State', 'Weeknum'])[\"Insured Unemployment Rate\"].mean()\n",
    "ui_2020 = pd.DataFrame(ui_2020)\n",
    "ui_2020.to_csv(\"../Resources/ui_2020.csv\", index=True)\n",
    "ui_2020.head(2)"
   ]
  },
  {
   "cell_type": "code",
   "execution_count": 3,
   "metadata": {},
   "outputs": [
    {
     "data": {
      "text/plain": [
       "Text(0.5, 1.0, '2020 Weekly Unemployment % by State')"
      ]
     },
     "execution_count": 3,
     "metadata": {},
     "output_type": "execute_result"
    },
    {
     "data": {
      "image/png": "[encoded data removed]",
      "text/plain": [
       "<Figure size 432x288 with 1 Axes>"
      ]
     },
     "metadata": {
      "needs_background": "light"
     },
     "output_type": "display_data"
    }
   ],
   "source": [
    "ui_2020.pivot_table('Insured Unemployment Rate', index='Weeknum', columns='State', aggfunc='mean').plot()\n",
    "plt.axis([0, 32, 0, 32])\n",
    "plt.ylabel('Unemployment %')\n",
    "plt.title(\"2020 Weekly Unemployment % by State\")"
   ]
  },
  {
   "cell_type": "code",
   "execution_count": null,
   "metadata": {},
   "outputs": [],
   "source": [
    "###############################"
   ]
  },
  {
   "cell_type": "code",
   "execution_count": 4,
   "metadata": {},
   "outputs": [
    {
     "data": {
      "text/html": [
       "<div>\n",
       "<style scoped>\n",
       "    .dataframe tbody tr th:only-of-type {\n",
       "        vertical-align: middle;\n",
       "    }\n",
       "\n",
       "    .dataframe tbody tr th {\n",
       "        vertical-align: top;\n",
       "    }\n",
       "\n",
       "    .dataframe thead th {\n",
       "        text-align: right;\n",
       "    }\n",
       "</style>\n",
       "<table border=\"1\" class=\"dataframe\">\n",
       "  <thead>\n",
       "    <tr style=\"text-align: right;\">\n",
       "      <th></th>\n",
       "      <th>Indicator</th>\n",
       "      <th>Group</th>\n",
       "      <th>State</th>\n",
       "      <th>Subgroup</th>\n",
       "      <th>Week</th>\n",
       "      <th>Week Label</th>\n",
       "      <th>Value</th>\n",
       "      <th>Low CI</th>\n",
       "      <th>High CI</th>\n",
       "      <th>Confidence Interval</th>\n",
       "      <th>Quartile range</th>\n",
       "      <th>Weeknum</th>\n",
       "    </tr>\n",
       "  </thead>\n",
       "  <tbody>\n",
       "    <tr>\n",
       "      <th>0</th>\n",
       "      <td>Symptoms of Depressive Disorder</td>\n",
       "      <td>National Estimate</td>\n",
       "      <td>United States</td>\n",
       "      <td>United States</td>\n",
       "      <td>1</td>\n",
       "      <td>2020-04-23</td>\n",
       "      <td>23.5</td>\n",
       "      <td>22.7</td>\n",
       "      <td>24.3</td>\n",
       "      <td>22.7 - 24.3</td>\n",
       "      <td>NaN</td>\n",
       "      <td>17</td>\n",
       "    </tr>\n",
       "    <tr>\n",
       "      <th>1</th>\n",
       "      <td>Symptoms of Depressive Disorder</td>\n",
       "      <td>By Age</td>\n",
       "      <td>United States</td>\n",
       "      <td>18 - 29 years</td>\n",
       "      <td>1</td>\n",
       "      <td>2020-04-23</td>\n",
       "      <td>32.7</td>\n",
       "      <td>30.2</td>\n",
       "      <td>35.2</td>\n",
       "      <td>30.2 - 35.2</td>\n",
       "      <td>NaN</td>\n",
       "      <td>17</td>\n",
       "    </tr>\n",
       "  </tbody>\n",
       "</table>\n",
       "</div>"
      ],
      "text/plain": [
       "                         Indicator              Group          State  \\\n",
       "0  Symptoms of Depressive Disorder  National Estimate  United States   \n",
       "1  Symptoms of Depressive Disorder             By Age  United States   \n",
       "\n",
       "        Subgroup  Week  Week Label  Value  Low CI  High CI  \\\n",
       "0  United States     1  2020-04-23   23.5    22.7     24.3   \n",
       "1  18 - 29 years     1  2020-04-23   32.7    30.2     35.2   \n",
       "\n",
       "  Confidence Interval Quartile range  Weeknum  \n",
       "0         22.7 - 24.3            NaN       17  \n",
       "1         30.2 - 35.2            NaN       17  "
      ]
     },
     "execution_count": 4,
     "metadata": {},
     "output_type": "execute_result"
    }
   ],
   "source": [
    "# Pull source ad file\n",
    "ad_df = pd.read_csv(\"../Resources/ad_clean.csv\")\n",
    "ad_df.head(2)"
   ]
  },
  {
   "cell_type": "code",
   "execution_count": 5,
   "metadata": {},
   "outputs": [
    {
     "data": {
      "text/html": [
       "<div>\n",
       "<style scoped>\n",
       "    .dataframe tbody tr th:only-of-type {\n",
       "        vertical-align: middle;\n",
       "    }\n",
       "\n",
       "    .dataframe tbody tr th {\n",
       "        vertical-align: top;\n",
       "    }\n",
       "\n",
       "    .dataframe thead th {\n",
       "        text-align: right;\n",
       "    }\n",
       "</style>\n",
       "<table border=\"1\" class=\"dataframe\">\n",
       "  <thead>\n",
       "    <tr style=\"text-align: right;\">\n",
       "      <th></th>\n",
       "      <th>Indicator</th>\n",
       "      <th>Group</th>\n",
       "      <th>State</th>\n",
       "      <th>Subgroup</th>\n",
       "      <th>Week</th>\n",
       "      <th>Week Label</th>\n",
       "      <th>Value</th>\n",
       "      <th>Low CI</th>\n",
       "      <th>High CI</th>\n",
       "      <th>Confidence Interval</th>\n",
       "      <th>Quartile range</th>\n",
       "      <th>Weeknum</th>\n",
       "    </tr>\n",
       "  </thead>\n",
       "  <tbody>\n",
       "    <tr>\n",
       "      <th>23</th>\n",
       "      <td>Symptoms of Depressive Disorder</td>\n",
       "      <td>By State</td>\n",
       "      <td>California</td>\n",
       "      <td>California</td>\n",
       "      <td>1</td>\n",
       "      <td>2020-04-23</td>\n",
       "      <td>25.4</td>\n",
       "      <td>22.5</td>\n",
       "      <td>28.6</td>\n",
       "      <td>22.5 - 28.6</td>\n",
       "      <td>24.1 - 28.7</td>\n",
       "      <td>17</td>\n",
       "    </tr>\n",
       "    <tr>\n",
       "      <th>93</th>\n",
       "      <td>Symptoms of Anxiety Disorder</td>\n",
       "      <td>By State</td>\n",
       "      <td>California</td>\n",
       "      <td>California</td>\n",
       "      <td>1</td>\n",
       "      <td>2020-04-23</td>\n",
       "      <td>30.8</td>\n",
       "      <td>28.2</td>\n",
       "      <td>33.5</td>\n",
       "      <td>28.2 - 33.5</td>\n",
       "      <td>30.4 - 31.6</td>\n",
       "      <td>17</td>\n",
       "    </tr>\n",
       "  </tbody>\n",
       "</table>\n",
       "</div>"
      ],
      "text/plain": [
       "                          Indicator     Group       State    Subgroup  Week  \\\n",
       "23  Symptoms of Depressive Disorder  By State  California  California     1   \n",
       "93     Symptoms of Anxiety Disorder  By State  California  California     1   \n",
       "\n",
       "    Week Label  Value  Low CI  High CI Confidence Interval Quartile range  \\\n",
       "23  2020-04-23   25.4    22.5     28.6         22.5 - 28.6    24.1 - 28.7   \n",
       "93  2020-04-23   30.8    28.2     33.5         28.2 - 33.5    30.4 - 31.6   \n",
       "\n",
       "    Weeknum  \n",
       "23       17  \n",
       "93       17  "
      ]
     },
     "execution_count": 5,
     "metadata": {},
     "output_type": "execute_result"
    }
   ],
   "source": [
    "ad_cal = ad_df[ad_df[\"State\"] == \"California\"]\n",
    "ad_cal.head(2)"
   ]
  },
  {
   "cell_type": "code",
   "execution_count": 6,
   "metadata": {},
   "outputs": [
    {
     "data": {
      "text/html": [
       "<div>\n",
       "<style scoped>\n",
       "    .dataframe tbody tr th:only-of-type {\n",
       "        vertical-align: middle;\n",
       "    }\n",
       "\n",
       "    .dataframe tbody tr th {\n",
       "        vertical-align: top;\n",
       "    }\n",
       "\n",
       "    .dataframe thead th {\n",
       "        text-align: right;\n",
       "    }\n",
       "</style>\n",
       "<table border=\"1\" class=\"dataframe\">\n",
       "  <thead>\n",
       "    <tr style=\"text-align: right;\">\n",
       "      <th></th>\n",
       "      <th></th>\n",
       "      <th>Value</th>\n",
       "    </tr>\n",
       "    <tr>\n",
       "      <th>State</th>\n",
       "      <th>Weeknum</th>\n",
       "      <th></th>\n",
       "    </tr>\n",
       "  </thead>\n",
       "  <tbody>\n",
       "    <tr>\n",
       "      <th rowspan=\"2\" valign=\"top\">California</th>\n",
       "      <th>17</th>\n",
       "      <td>31.200000</td>\n",
       "    </tr>\n",
       "    <tr>\n",
       "      <th>19</th>\n",
       "      <td>29.533333</td>\n",
       "    </tr>\n",
       "  </tbody>\n",
       "</table>\n",
       "</div>"
      ],
      "text/plain": [
       "                        Value\n",
       "State      Weeknum           \n",
       "California 17       31.200000\n",
       "           19       29.533333"
      ]
     },
     "execution_count": 6,
     "metadata": {},
     "output_type": "execute_result"
    }
   ],
   "source": [
    "ad_cal_group = ad_cal.groupby(['State', 'Weeknum'])[\"Value\"].mean()\n",
    "ad_cal_group = pd.DataFrame(ad_cal_group)\n",
    "ad_cal_group.to_csv(\"../Resources/ad_2020.csv\", index=True)\n",
    "ad_cal_group.head(2)"
   ]
  },
  {
   "cell_type": "code",
   "execution_count": 7,
   "metadata": {},
   "outputs": [
    {
     "data": {
      "text/html": [
       "<div>\n",
       "<style scoped>\n",
       "    .dataframe tbody tr th:only-of-type {\n",
       "        vertical-align: middle;\n",
       "    }\n",
       "\n",
       "    .dataframe tbody tr th {\n",
       "        vertical-align: top;\n",
       "    }\n",
       "\n",
       "    .dataframe thead th {\n",
       "        text-align: right;\n",
       "    }\n",
       "</style>\n",
       "<table border=\"1\" class=\"dataframe\">\n",
       "  <thead>\n",
       "    <tr style=\"text-align: right;\">\n",
       "      <th></th>\n",
       "      <th></th>\n",
       "      <th>Value</th>\n",
       "    </tr>\n",
       "    <tr>\n",
       "      <th>State</th>\n",
       "      <th>Weeknum</th>\n",
       "      <th></th>\n",
       "    </tr>\n",
       "  </thead>\n",
       "  <tbody>\n",
       "    <tr>\n",
       "      <th rowspan=\"2\" valign=\"top\">Florida</th>\n",
       "      <th>17</th>\n",
       "      <td>30.633333</td>\n",
       "    </tr>\n",
       "    <tr>\n",
       "      <th>19</th>\n",
       "      <td>28.666667</td>\n",
       "    </tr>\n",
       "  </tbody>\n",
       "</table>\n",
       "</div>"
      ],
      "text/plain": [
       "                     Value\n",
       "State   Weeknum           \n",
       "Florida 17       30.633333\n",
       "        19       28.666667"
      ]
     },
     "execution_count": 7,
     "metadata": {},
     "output_type": "execute_result"
    }
   ],
   "source": [
    "ad_fla = ad_df[ad_df[\"State\"] == \"Florida\"]\n",
    "ad_fla_group = ad_fla.groupby(['State', 'Weeknum'])[\"Value\"].mean()\n",
    "ad_fla_group = pd.DataFrame(ad_fla_group)\n",
    "ad_fla_group.to_csv(\"../Resources/ad_2020.csv\", index=True)\n",
    "ad_fla_group.head(2)"
   ]
  },
  {
   "cell_type": "code",
   "execution_count": 8,
   "metadata": {},
   "outputs": [
    {
     "data": {
      "text/html": [
       "<div>\n",
       "<style scoped>\n",
       "    .dataframe tbody tr th:only-of-type {\n",
       "        vertical-align: middle;\n",
       "    }\n",
       "\n",
       "    .dataframe tbody tr th {\n",
       "        vertical-align: top;\n",
       "    }\n",
       "\n",
       "    .dataframe thead th {\n",
       "        text-align: right;\n",
       "    }\n",
       "</style>\n",
       "<table border=\"1\" class=\"dataframe\">\n",
       "  <thead>\n",
       "    <tr style=\"text-align: right;\">\n",
       "      <th></th>\n",
       "      <th></th>\n",
       "      <th>Value</th>\n",
       "    </tr>\n",
       "    <tr>\n",
       "      <th>State</th>\n",
       "      <th>Weeknum</th>\n",
       "      <th></th>\n",
       "    </tr>\n",
       "  </thead>\n",
       "  <tbody>\n",
       "    <tr>\n",
       "      <th rowspan=\"2\" valign=\"top\">Georgia</th>\n",
       "      <th>17</th>\n",
       "      <td>31.233333</td>\n",
       "    </tr>\n",
       "    <tr>\n",
       "      <th>19</th>\n",
       "      <td>29.800000</td>\n",
       "    </tr>\n",
       "  </tbody>\n",
       "</table>\n",
       "</div>"
      ],
      "text/plain": [
       "                     Value\n",
       "State   Weeknum           \n",
       "Georgia 17       31.233333\n",
       "        19       29.800000"
      ]
     },
     "execution_count": 8,
     "metadata": {},
     "output_type": "execute_result"
    }
   ],
   "source": [
    "ad_ga = ad_df[ad_df[\"State\"] == \"Georgia\"]\n",
    "ad_ga_group = ad_ga.groupby(['State', 'Weeknum'])[\"Value\"].mean()\n",
    "ad_ga_group = pd.DataFrame(ad_ga_group)\n",
    "ad_ga_group.to_csv(\"../Resources/ad_2020.csv\", index=True)\n",
    "ad_ga_group.head(2)"
   ]
  },
  {
   "cell_type": "code",
   "execution_count": 9,
   "metadata": {},
   "outputs": [
    {
     "data": {
      "text/html": [
       "<div>\n",
       "<style scoped>\n",
       "    .dataframe tbody tr th:only-of-type {\n",
       "        vertical-align: middle;\n",
       "    }\n",
       "\n",
       "    .dataframe tbody tr th {\n",
       "        vertical-align: top;\n",
       "    }\n",
       "\n",
       "    .dataframe thead th {\n",
       "        text-align: right;\n",
       "    }\n",
       "</style>\n",
       "<table border=\"1\" class=\"dataframe\">\n",
       "  <thead>\n",
       "    <tr style=\"text-align: right;\">\n",
       "      <th></th>\n",
       "      <th></th>\n",
       "      <th>Value</th>\n",
       "    </tr>\n",
       "    <tr>\n",
       "      <th>State</th>\n",
       "      <th>Weeknum</th>\n",
       "      <th></th>\n",
       "    </tr>\n",
       "  </thead>\n",
       "  <tbody>\n",
       "    <tr>\n",
       "      <th rowspan=\"2\" valign=\"top\">Maryland</th>\n",
       "      <th>17</th>\n",
       "      <td>27.166667</td>\n",
       "    </tr>\n",
       "    <tr>\n",
       "      <th>19</th>\n",
       "      <td>29.766667</td>\n",
       "    </tr>\n",
       "  </tbody>\n",
       "</table>\n",
       "</div>"
      ],
      "text/plain": [
       "                      Value\n",
       "State    Weeknum           \n",
       "Maryland 17       27.166667\n",
       "         19       29.766667"
      ]
     },
     "execution_count": 9,
     "metadata": {},
     "output_type": "execute_result"
    }
   ],
   "source": [
    "ad_md = ad_df[ad_df[\"State\"] == \"Maryland\"]\n",
    "ad_md_group = ad_md.groupby(['State', 'Weeknum'])[\"Value\"].mean()\n",
    "ad_md_group = pd.DataFrame(ad_md_group)\n",
    "ad_md_group.to_csv(\"../Resources/ad_2020.csv\", index=True)\n",
    "ad_md_group.head(2)"
   ]
  },
  {
   "cell_type": "code",
   "execution_count": 10,
   "metadata": {},
   "outputs": [
    {
     "data": {
      "text/html": [
       "<div>\n",
       "<style scoped>\n",
       "    .dataframe tbody tr th:only-of-type {\n",
       "        vertical-align: middle;\n",
       "    }\n",
       "\n",
       "    .dataframe tbody tr th {\n",
       "        vertical-align: top;\n",
       "    }\n",
       "\n",
       "    .dataframe thead th {\n",
       "        text-align: right;\n",
       "    }\n",
       "</style>\n",
       "<table border=\"1\" class=\"dataframe\">\n",
       "  <thead>\n",
       "    <tr style=\"text-align: right;\">\n",
       "      <th></th>\n",
       "      <th></th>\n",
       "      <th>Value</th>\n",
       "    </tr>\n",
       "    <tr>\n",
       "      <th>State</th>\n",
       "      <th>Weeknum</th>\n",
       "      <th></th>\n",
       "    </tr>\n",
       "  </thead>\n",
       "  <tbody>\n",
       "    <tr>\n",
       "      <th rowspan=\"2\" valign=\"top\">South Dakota</th>\n",
       "      <th>17</th>\n",
       "      <td>21.733333</td>\n",
       "    </tr>\n",
       "    <tr>\n",
       "      <th>19</th>\n",
       "      <td>25.466667</td>\n",
       "    </tr>\n",
       "  </tbody>\n",
       "</table>\n",
       "</div>"
      ],
      "text/plain": [
       "                          Value\n",
       "State        Weeknum           \n",
       "South Dakota 17       21.733333\n",
       "             19       25.466667"
      ]
     },
     "execution_count": 10,
     "metadata": {},
     "output_type": "execute_result"
    }
   ],
   "source": [
    "ad_sd = ad_df[ad_df[\"State\"] == \"South Dakota\"]\n",
    "ad_sd_group = ad_sd.groupby(['State', 'Weeknum'])[\"Value\"].mean()\n",
    "ad_sd_group = pd.DataFrame(ad_sd_group)\n",
    "ad_sd_group.to_csv(\"../Resources/ad_2020.csv\", index=True)\n",
    "ad_sd_group.head(2)"
   ]
  },
  {
   "cell_type": "code",
   "execution_count": 11,
   "metadata": {},
   "outputs": [
    {
     "data": {
      "text/html": [
       "<div>\n",
       "<style scoped>\n",
       "    .dataframe tbody tr th:only-of-type {\n",
       "        vertical-align: middle;\n",
       "    }\n",
       "\n",
       "    .dataframe tbody tr th {\n",
       "        vertical-align: top;\n",
       "    }\n",
       "\n",
       "    .dataframe thead th {\n",
       "        text-align: right;\n",
       "    }\n",
       "</style>\n",
       "<table border=\"1\" class=\"dataframe\">\n",
       "  <thead>\n",
       "    <tr style=\"text-align: right;\">\n",
       "      <th></th>\n",
       "      <th></th>\n",
       "      <th>Value</th>\n",
       "    </tr>\n",
       "    <tr>\n",
       "      <th>State</th>\n",
       "      <th>Weeknum</th>\n",
       "      <th></th>\n",
       "    </tr>\n",
       "  </thead>\n",
       "  <tbody>\n",
       "    <tr>\n",
       "      <th rowspan=\"2\" valign=\"top\">Texas</th>\n",
       "      <th>17</th>\n",
       "      <td>29.666667</td>\n",
       "    </tr>\n",
       "    <tr>\n",
       "      <th>19</th>\n",
       "      <td>31.333333</td>\n",
       "    </tr>\n",
       "  </tbody>\n",
       "</table>\n",
       "</div>"
      ],
      "text/plain": [
       "                   Value\n",
       "State Weeknum           \n",
       "Texas 17       29.666667\n",
       "      19       31.333333"
      ]
     },
     "execution_count": 11,
     "metadata": {},
     "output_type": "execute_result"
    }
   ],
   "source": [
    "ad_tx = ad_df[ad_df[\"State\"] == \"Texas\"]\n",
    "ad_tx_group = ad_tx.groupby(['State', 'Weeknum'])[\"Value\"].mean()\n",
    "ad_tx_group = pd.DataFrame(ad_tx_group)\n",
    "ad_tx_group.to_csv(\"../Resources/ad_2020.csv\", index=True)\n",
    "ad_tx_group.head(2)"
   ]
  },
  {
   "cell_type": "code",
   "execution_count": 12,
   "metadata": {},
   "outputs": [
    {
     "data": {
      "text/html": [
       "<div>\n",
       "<style scoped>\n",
       "    .dataframe tbody tr th:only-of-type {\n",
       "        vertical-align: middle;\n",
       "    }\n",
       "\n",
       "    .dataframe tbody tr th {\n",
       "        vertical-align: top;\n",
       "    }\n",
       "\n",
       "    .dataframe thead th {\n",
       "        text-align: right;\n",
       "    }\n",
       "</style>\n",
       "<table border=\"1\" class=\"dataframe\">\n",
       "  <thead>\n",
       "    <tr style=\"text-align: right;\">\n",
       "      <th></th>\n",
       "      <th></th>\n",
       "      <th>Value</th>\n",
       "    </tr>\n",
       "    <tr>\n",
       "      <th>State</th>\n",
       "      <th>Weeknum</th>\n",
       "      <th></th>\n",
       "    </tr>\n",
       "  </thead>\n",
       "  <tbody>\n",
       "    <tr>\n",
       "      <th rowspan=\"5\" valign=\"top\">California</th>\n",
       "      <th>17</th>\n",
       "      <td>31.200000</td>\n",
       "    </tr>\n",
       "    <tr>\n",
       "      <th>19</th>\n",
       "      <td>29.533333</td>\n",
       "    </tr>\n",
       "    <tr>\n",
       "      <th>20</th>\n",
       "      <td>33.266667</td>\n",
       "    </tr>\n",
       "    <tr>\n",
       "      <th>21</th>\n",
       "      <td>31.166667</td>\n",
       "    </tr>\n",
       "    <tr>\n",
       "      <th>22</th>\n",
       "      <td>33.100000</td>\n",
       "    </tr>\n",
       "  </tbody>\n",
       "</table>\n",
       "</div>"
      ],
      "text/plain": [
       "                        Value\n",
       "State      Weeknum           \n",
       "California 17       31.200000\n",
       "           19       29.533333\n",
       "           20       33.266667\n",
       "           21       31.166667\n",
       "           22       33.100000"
      ]
     },
     "execution_count": 12,
     "metadata": {},
     "output_type": "execute_result"
    }
   ],
   "source": [
    "cal_fla = ad_cal_group.append(ad_fla_group)\n",
    "cal_fla_ga = cal_fla.append(ad_ga_group)\n",
    "cal_fla_ga_md =cal_fla_ga.append(ad_md_group)\n",
    "cal_fla_ga_md_sd = cal_fla_ga_md .append(ad_sd_group)\n",
    "ad_all_df = cal_fla_ga_md_sd .append(ad_tx_group)\n",
    "\n",
    "ad_all_df = pd.DataFrame(ad_all_df)\n",
    "ad_all_df.to_csv(\"../Resources/ad_all_df.csv\", index=True)\n",
    "\n",
    "ad_all_df.head()"
   ]
  },
  {
   "cell_type": "code",
   "execution_count": 13,
   "metadata": {},
   "outputs": [
    {
     "data": {
      "text/html": [
       "<div>\n",
       "<style scoped>\n",
       "    .dataframe tbody tr th:only-of-type {\n",
       "        vertical-align: middle;\n",
       "    }\n",
       "\n",
       "    .dataframe tbody tr th {\n",
       "        vertical-align: top;\n",
       "    }\n",
       "\n",
       "    .dataframe thead th {\n",
       "        text-align: right;\n",
       "    }\n",
       "</style>\n",
       "<table border=\"1\" class=\"dataframe\">\n",
       "  <thead>\n",
       "    <tr style=\"text-align: right;\">\n",
       "      <th></th>\n",
       "      <th>State</th>\n",
       "      <th>Weeknum</th>\n",
       "      <th>Anxiety</th>\n",
       "      <th>Insured Unemployment Rate</th>\n",
       "    </tr>\n",
       "  </thead>\n",
       "  <tbody>\n",
       "    <tr>\n",
       "      <th>0</th>\n",
       "      <td>California</td>\n",
       "      <td>17</td>\n",
       "      <td>31.200000</td>\n",
       "      <td>27.75</td>\n",
       "    </tr>\n",
       "    <tr>\n",
       "      <th>1</th>\n",
       "      <td>California</td>\n",
       "      <td>19</td>\n",
       "      <td>29.533333</td>\n",
       "      <td>20.57</td>\n",
       "    </tr>\n",
       "    <tr>\n",
       "      <th>2</th>\n",
       "      <td>California</td>\n",
       "      <td>20</td>\n",
       "      <td>33.266667</td>\n",
       "      <td>12.44</td>\n",
       "    </tr>\n",
       "    <tr>\n",
       "      <th>3</th>\n",
       "      <td>California</td>\n",
       "      <td>21</td>\n",
       "      <td>31.166667</td>\n",
       "      <td>15.88</td>\n",
       "    </tr>\n",
       "    <tr>\n",
       "      <th>4</th>\n",
       "      <td>California</td>\n",
       "      <td>22</td>\n",
       "      <td>33.100000</td>\n",
       "      <td>16.23</td>\n",
       "    </tr>\n",
       "    <tr>\n",
       "      <th>...</th>\n",
       "      <td>...</td>\n",
       "      <td>...</td>\n",
       "      <td>...</td>\n",
       "      <td>...</td>\n",
       "    </tr>\n",
       "    <tr>\n",
       "      <th>181</th>\n",
       "      <td>Texas</td>\n",
       "      <td>15</td>\n",
       "      <td>NaN</td>\n",
       "      <td>7.41</td>\n",
       "    </tr>\n",
       "    <tr>\n",
       "      <th>182</th>\n",
       "      <td>Texas</td>\n",
       "      <td>16</td>\n",
       "      <td>NaN</td>\n",
       "      <td>7.82</td>\n",
       "    </tr>\n",
       "    <tr>\n",
       "      <th>183</th>\n",
       "      <td>Texas</td>\n",
       "      <td>18</td>\n",
       "      <td>NaN</td>\n",
       "      <td>9.60</td>\n",
       "    </tr>\n",
       "    <tr>\n",
       "      <th>184</th>\n",
       "      <td>Texas</td>\n",
       "      <td>30</td>\n",
       "      <td>NaN</td>\n",
       "      <td>9.93</td>\n",
       "    </tr>\n",
       "    <tr>\n",
       "      <th>185</th>\n",
       "      <td>Texas</td>\n",
       "      <td>31</td>\n",
       "      <td>NaN</td>\n",
       "      <td>9.87</td>\n",
       "    </tr>\n",
       "  </tbody>\n",
       "</table>\n",
       "<p>186 rows × 4 columns</p>\n",
       "</div>"
      ],
      "text/plain": [
       "          State  Weeknum    Anxiety  Insured Unemployment Rate\n",
       "0    California       17  31.200000                      27.75\n",
       "1    California       19  29.533333                      20.57\n",
       "2    California       20  33.266667                      12.44\n",
       "3    California       21  31.166667                      15.88\n",
       "4    California       22  33.100000                      16.23\n",
       "..          ...      ...        ...                        ...\n",
       "181       Texas       15        NaN                       7.41\n",
       "182       Texas       16        NaN                       7.82\n",
       "183       Texas       18        NaN                       9.60\n",
       "184       Texas       30        NaN                       9.93\n",
       "185       Texas       31        NaN                       9.87\n",
       "\n",
       "[186 rows x 4 columns]"
      ]
     },
     "execution_count": 13,
     "metadata": {},
     "output_type": "execute_result"
    }
   ],
   "source": [
    "ad_all_df = ad_all_df.rename(columns={\"Value\": \"Anxiety\"})\n",
    "ui_ad_forscatter = pd.merge(ad_all_df, ui_2020, how= \"outer\", on = [\"State\", \"Weeknum\"])\n",
    "ui_ad_forscatter = ui_ad_forscatter.reset_index()\n",
    "ui_ad_forscatter"
   ]
  },
  {
   "cell_type": "code",
   "execution_count": 14,
   "metadata": {},
   "outputs": [
    {
     "data": {
      "text/html": [
       "<div>\n",
       "<style scoped>\n",
       "    .dataframe tbody tr th:only-of-type {\n",
       "        vertical-align: middle;\n",
       "    }\n",
       "\n",
       "    .dataframe tbody tr th {\n",
       "        vertical-align: top;\n",
       "    }\n",
       "\n",
       "    .dataframe thead th {\n",
       "        text-align: right;\n",
       "    }\n",
       "</style>\n",
       "<table border=\"1\" class=\"dataframe\">\n",
       "  <thead>\n",
       "    <tr style=\"text-align: right;\">\n",
       "      <th></th>\n",
       "      <th>State</th>\n",
       "      <th>Weeknum</th>\n",
       "      <th>Anxiety</th>\n",
       "      <th>Insured Unemployment Rate</th>\n",
       "    </tr>\n",
       "  </thead>\n",
       "  <tbody>\n",
       "    <tr>\n",
       "      <th>0</th>\n",
       "      <td>California</td>\n",
       "      <td>17</td>\n",
       "      <td>31.200000</td>\n",
       "      <td>27.75</td>\n",
       "    </tr>\n",
       "    <tr>\n",
       "      <th>1</th>\n",
       "      <td>California</td>\n",
       "      <td>19</td>\n",
       "      <td>29.533333</td>\n",
       "      <td>20.57</td>\n",
       "    </tr>\n",
       "    <tr>\n",
       "      <th>2</th>\n",
       "      <td>California</td>\n",
       "      <td>20</td>\n",
       "      <td>33.266667</td>\n",
       "      <td>12.44</td>\n",
       "    </tr>\n",
       "    <tr>\n",
       "      <th>3</th>\n",
       "      <td>California</td>\n",
       "      <td>21</td>\n",
       "      <td>31.166667</td>\n",
       "      <td>15.88</td>\n",
       "    </tr>\n",
       "    <tr>\n",
       "      <th>4</th>\n",
       "      <td>California</td>\n",
       "      <td>22</td>\n",
       "      <td>33.100000</td>\n",
       "      <td>16.23</td>\n",
       "    </tr>\n",
       "    <tr>\n",
       "      <th>...</th>\n",
       "      <td>...</td>\n",
       "      <td>...</td>\n",
       "      <td>...</td>\n",
       "      <td>...</td>\n",
       "    </tr>\n",
       "    <tr>\n",
       "      <th>67</th>\n",
       "      <td>Texas</td>\n",
       "      <td>25</td>\n",
       "      <td>31.300000</td>\n",
       "      <td>10.58</td>\n",
       "    </tr>\n",
       "    <tr>\n",
       "      <th>68</th>\n",
       "      <td>Texas</td>\n",
       "      <td>26</td>\n",
       "      <td>34.933333</td>\n",
       "      <td>10.06</td>\n",
       "    </tr>\n",
       "    <tr>\n",
       "      <th>69</th>\n",
       "      <td>Texas</td>\n",
       "      <td>27</td>\n",
       "      <td>36.066667</td>\n",
       "      <td>10.61</td>\n",
       "    </tr>\n",
       "    <tr>\n",
       "      <th>70</th>\n",
       "      <td>Texas</td>\n",
       "      <td>28</td>\n",
       "      <td>39.566667</td>\n",
       "      <td>10.08</td>\n",
       "    </tr>\n",
       "    <tr>\n",
       "      <th>71</th>\n",
       "      <td>Texas</td>\n",
       "      <td>29</td>\n",
       "      <td>38.366667</td>\n",
       "      <td>10.82</td>\n",
       "    </tr>\n",
       "  </tbody>\n",
       "</table>\n",
       "<p>72 rows × 4 columns</p>\n",
       "</div>"
      ],
      "text/plain": [
       "         State  Weeknum    Anxiety  Insured Unemployment Rate\n",
       "0   California       17  31.200000                      27.75\n",
       "1   California       19  29.533333                      20.57\n",
       "2   California       20  33.266667                      12.44\n",
       "3   California       21  31.166667                      15.88\n",
       "4   California       22  33.100000                      16.23\n",
       "..         ...      ...        ...                        ...\n",
       "67       Texas       25  31.300000                      10.58\n",
       "68       Texas       26  34.933333                      10.06\n",
       "69       Texas       27  36.066667                      10.61\n",
       "70       Texas       28  39.566667                      10.08\n",
       "71       Texas       29  38.366667                      10.82\n",
       "\n",
       "[72 rows x 4 columns]"
      ]
     },
     "execution_count": 14,
     "metadata": {},
     "output_type": "execute_result"
    }
   ],
   "source": [
    "ui_ad_scat_clean = ui_ad_forscatter.dropna(how='any')\n",
    "ui_ad_scat_clean"
   ]
  },
  {
   "cell_type": "code",
   "execution_count": 15,
   "metadata": {},
   "outputs": [
    {
     "name": "stdout",
     "output_type": "stream",
     "text": [
      "R Val is 0.0829826252613376\n"
     ]
    },
    {
     "data": {
      "text/plain": [
       "Text(15, 23, 'y = 0.22x + 29.0')"
      ]
     },
     "execution_count": 15,
     "metadata": {},
     "output_type": "execute_result"
    },
    {
     "data": {
      "image/png": "[encoded data removed]",
      "text/plain": [
       "<Figure size 432x288 with 1 Axes>"
      ]
     },
     "metadata": {
      "needs_background": "light"
     },
     "output_type": "display_data"
    }
   ],
   "source": [
    "#plotting and formatting scatter\n",
    "plt.scatter(ui_ad_scat_clean['Insured Unemployment Rate'], ui_ad_scat_clean['Anxiety'],marker=\"o\", facecolors=\"royalblue\", edgecolors=\"black\")\n",
    "\n",
    "#inserting chart labels\n",
    "plt.xlabel(\"State Unemployment %\")\n",
    "plt.ylabel(\"Anxiety & Depression %\")\n",
    "plt.title(\"6-State Unemployment % vs Anxiety & Depression %\")\n",
    "\n",
    "#defining values\n",
    "x_values = ui_ad_scat_clean['Insured Unemployment Rate']\n",
    "y_values = ui_ad_scat_clean['Anxiety']\n",
    "\n",
    "#defining stats\n",
    "(slope, intercept, rvalue, pvalue, stderr) = linregress(x_values, y_values)\n",
    "\n",
    "#Defining regression\n",
    "regress_values = x_values * slope + intercept\n",
    "line_eq = \"y = \" + str(round(slope,2)) + \"x + \" + str(round(intercept,2))\n",
    "\n",
    "#Plotting line regress\n",
    "plt.plot(x_values,regress_values,\"r-\")\n",
    "\n",
    "#Printing R Value\n",
    "print(f\"R Val is {rvalue**2}\")\n",
    "\n",
    "#Plotting line equation on the graph\n",
    "plt.annotate(line_eq,(15, 23),fontsize=15,color=\"red\") "
   ]
  },
  {
   "cell_type": "markdown",
   "metadata": {},
   "source": [
    "The R Value was low suggesting there was a low correlation between Unemployment % compared to Anxiety and Depression %"
   ]
  },
  {
   "cell_type": "code",
   "execution_count": 30,
   "metadata": {},
   "outputs": [
    {
     "data": {
      "text/html": [
       "<div>\n",
       "<style scoped>\n",
       "    .dataframe tbody tr th:only-of-type {\n",
       "        vertical-align: middle;\n",
       "    }\n",
       "\n",
       "    .dataframe tbody tr th {\n",
       "        vertical-align: top;\n",
       "    }\n",
       "\n",
       "    .dataframe thead th {\n",
       "        text-align: right;\n",
       "    }\n",
       "</style>\n",
       "<table border=\"1\" class=\"dataframe\">\n",
       "  <thead>\n",
       "    <tr style=\"text-align: right;\">\n",
       "      <th></th>\n",
       "      <th>State</th>\n",
       "      <th>Weeknum</th>\n",
       "      <th>Anxiety</th>\n",
       "      <th>Insured Unemployment Rate</th>\n",
       "    </tr>\n",
       "  </thead>\n",
       "  <tbody>\n",
       "    <tr>\n",
       "      <th>0</th>\n",
       "      <td>California</td>\n",
       "      <td>17</td>\n",
       "      <td>31.200000</td>\n",
       "      <td>27.75</td>\n",
       "    </tr>\n",
       "    <tr>\n",
       "      <th>1</th>\n",
       "      <td>California</td>\n",
       "      <td>19</td>\n",
       "      <td>29.533333</td>\n",
       "      <td>20.57</td>\n",
       "    </tr>\n",
       "  </tbody>\n",
       "</table>\n",
       "</div>"
      ],
      "text/plain": [
       "        State  Weeknum    Anxiety  Insured Unemployment Rate\n",
       "0  California       17  31.200000                      27.75\n",
       "1  California       19  29.533333                      20.57"
      ]
     },
     "execution_count": 30,
     "metadata": {},
     "output_type": "execute_result"
    }
   ],
   "source": [
    "ui_scat_cal = ui_ad_scat_clean[ui_ad_scat_clean[\"State\"] == \"California\"]\n",
    "ui_scat_cal.head(2)"
   ]
  },
  {
   "cell_type": "code",
   "execution_count": 37,
   "metadata": {},
   "outputs": [
    {
     "name": "stdout",
     "output_type": "stream",
     "text": [
      "R Val is 0.10906823914766026\n"
     ]
    },
    {
     "data": {
      "text/plain": [
       "Text(21, 35, 'y = -0.23x + 37.4')"
      ]
     },
     "execution_count": 37,
     "metadata": {},
     "output_type": "execute_result"
    },
    {
     "data": {
      "image/png": "[encoded data removed]",
      "text/plain": [
       "<Figure size 432x288 with 1 Axes>"
      ]
     },
     "metadata": {
      "needs_background": "light"
     },
     "output_type": "display_data"
    }
   ],
   "source": [
    "#plotting and formatting scatter\n",
    "plt.scatter(ui_scat_cal['Insured Unemployment Rate'], ui_scat_cal['Anxiety'],marker=\"o\", facecolors=\"royalblue\", edgecolors=\"black\")\n",
    "\n",
    "#inserting chart labels\n",
    "plt.xlabel(\"California Unemployment %\")\n",
    "plt.ylabel(\"Cali Anxiety & Depression %\")\n",
    "plt.title(\"Cali Unemployment % vs Anxiety & Depression %\")\n",
    "\n",
    "#defining values\n",
    "x_values = ui_scat_cal['Insured Unemployment Rate']\n",
    "y_values = ui_scat_cal['Anxiety']\n",
    "\n",
    "#defining stats\n",
    "(slope, intercept, rvalue, pvalue, stderr) = linregress(x_values, y_values)\n",
    "\n",
    "#Defining regression\n",
    "regress_values = x_values * slope + intercept\n",
    "line_eq = \"y = \" + str(round(slope,2)) + \"x + \" + str(round(intercept,2))\n",
    "\n",
    "#Plotting line regress\n",
    "plt.plot(x_values,regress_values,\"r-\")\n",
    "\n",
    "#Printing R Value\n",
    "print(f\"R Val is {rvalue**2}\")\n",
    "\n",
    "#Plotting line equation on the graph\n",
    "plt.annotate(line_eq,(21,35),fontsize=15,color=\"red\") "
   ]
  },
  {
   "cell_type": "code",
   "execution_count": 31,
   "metadata": {},
   "outputs": [
    {
     "data": {
      "text/html": [
       "<div>\n",
       "<style scoped>\n",
       "    .dataframe tbody tr th:only-of-type {\n",
       "        vertical-align: middle;\n",
       "    }\n",
       "\n",
       "    .dataframe tbody tr th {\n",
       "        vertical-align: top;\n",
       "    }\n",
       "\n",
       "    .dataframe thead th {\n",
       "        text-align: right;\n",
       "    }\n",
       "</style>\n",
       "<table border=\"1\" class=\"dataframe\">\n",
       "  <thead>\n",
       "    <tr style=\"text-align: right;\">\n",
       "      <th></th>\n",
       "      <th>State</th>\n",
       "      <th>Weeknum</th>\n",
       "      <th>Anxiety</th>\n",
       "      <th>Insured Unemployment Rate</th>\n",
       "    </tr>\n",
       "  </thead>\n",
       "  <tbody>\n",
       "    <tr>\n",
       "      <th>24</th>\n",
       "      <td>Georgia</td>\n",
       "      <td>17</td>\n",
       "      <td>31.233333</td>\n",
       "      <td>20.18</td>\n",
       "    </tr>\n",
       "    <tr>\n",
       "      <th>25</th>\n",
       "      <td>Georgia</td>\n",
       "      <td>19</td>\n",
       "      <td>29.800000</td>\n",
       "      <td>18.01</td>\n",
       "    </tr>\n",
       "  </tbody>\n",
       "</table>\n",
       "</div>"
      ],
      "text/plain": [
       "      State  Weeknum    Anxiety  Insured Unemployment Rate\n",
       "24  Georgia       17  31.233333                      20.18\n",
       "25  Georgia       19  29.800000                      18.01"
      ]
     },
     "execution_count": 31,
     "metadata": {},
     "output_type": "execute_result"
    }
   ],
   "source": [
    "ui_scat_ga = ui_ad_scat_clean[ui_ad_scat_clean[\"State\"] == \"Georgia\"]\n",
    "ui_scat_ga.head(2)"
   ]
  },
  {
   "cell_type": "code",
   "execution_count": 39,
   "metadata": {},
   "outputs": [
    {
     "name": "stdout",
     "output_type": "stream",
     "text": [
      "R Val is 0.22991357095945644\n"
     ]
    },
    {
     "data": {
      "text/plain": [
       "Text(17, 35, 'y = -0.68x + 43.6')"
      ]
     },
     "execution_count": 39,
     "metadata": {},
     "output_type": "execute_result"
    },
    {
     "data": {
      "image/png": "[encoded data removed]",
      "text/plain": [
       "<Figure size 432x288 with 1 Axes>"
      ]
     },
     "metadata": {
      "needs_background": "light"
     },
     "output_type": "display_data"
    }
   ],
   "source": [
    "#plotting and formatting scatter\n",
    "plt.scatter(ui_scat_ga['Insured Unemployment Rate'], ui_scat_ga['Anxiety'],marker=\"o\", facecolors=\"royalblue\", edgecolors=\"black\")\n",
    "\n",
    "#inserting chart labels\n",
    "plt.xlabel(\"Georgia Unemployment %\")\n",
    "plt.ylabel(\"Georgia Anxiety & Depression %\")\n",
    "plt.title(\"Georgia Unemployment % vs Anxiety & Depression %\")\n",
    "\n",
    "#defining values\n",
    "x_values = ui_scat_ga['Insured Unemployment Rate']\n",
    "y_values = ui_scat_ga['Anxiety']\n",
    "\n",
    "#defining stats\n",
    "(slope, intercept, rvalue, pvalue, stderr) = linregress(x_values, y_values)\n",
    "\n",
    "#Defining regression\n",
    "regress_values = x_values * slope + intercept\n",
    "line_eq = \"y = \" + str(round(slope,2)) + \"x + \" + str(round(intercept,2))\n",
    "\n",
    "#Plotting line regress\n",
    "plt.plot(x_values,regress_values,\"r-\")\n",
    "\n",
    "#Printing R Value\n",
    "print(f\"R Val is {rvalue**2}\")\n",
    "\n",
    "#Plotting line equation on the graph\n",
    "plt.annotate(line_eq,(17,35),fontsize=15,color=\"red\") "
   ]
  },
  {
   "cell_type": "code",
   "execution_count": 32,
   "metadata": {},
   "outputs": [
    {
     "data": {
      "text/html": [
       "<div>\n",
       "<style scoped>\n",
       "    .dataframe tbody tr th:only-of-type {\n",
       "        vertical-align: middle;\n",
       "    }\n",
       "\n",
       "    .dataframe tbody tr th {\n",
       "        vertical-align: top;\n",
       "    }\n",
       "\n",
       "    .dataframe thead th {\n",
       "        text-align: right;\n",
       "    }\n",
       "</style>\n",
       "<table border=\"1\" class=\"dataframe\">\n",
       "  <thead>\n",
       "    <tr style=\"text-align: right;\">\n",
       "      <th></th>\n",
       "      <th>State</th>\n",
       "      <th>Weeknum</th>\n",
       "      <th>Anxiety</th>\n",
       "      <th>Insured Unemployment Rate</th>\n",
       "    </tr>\n",
       "  </thead>\n",
       "  <tbody>\n",
       "    <tr>\n",
       "      <th>12</th>\n",
       "      <td>Florida</td>\n",
       "      <td>17</td>\n",
       "      <td>30.633333</td>\n",
       "      <td>5.17</td>\n",
       "    </tr>\n",
       "    <tr>\n",
       "      <th>13</th>\n",
       "      <td>Florida</td>\n",
       "      <td>19</td>\n",
       "      <td>28.666667</td>\n",
       "      <td>25.04</td>\n",
       "    </tr>\n",
       "  </tbody>\n",
       "</table>\n",
       "</div>"
      ],
      "text/plain": [
       "      State  Weeknum    Anxiety  Insured Unemployment Rate\n",
       "12  Florida       17  30.633333                       5.17\n",
       "13  Florida       19  28.666667                      25.04"
      ]
     },
     "execution_count": 32,
     "metadata": {},
     "output_type": "execute_result"
    }
   ],
   "source": [
    "ui_scat_fl = ui_ad_scat_clean[ui_ad_scat_clean[\"State\"] == \"Florida\"]\n",
    "ui_scat_fl.head(2)"
   ]
  },
  {
   "cell_type": "code",
   "execution_count": 41,
   "metadata": {},
   "outputs": [
    {
     "name": "stdout",
     "output_type": "stream",
     "text": [
      "R Val is 0.10769390458282137\n"
     ]
    },
    {
     "data": {
      "text/plain": [
       "Text(16, 35, 'y = -0.2x + 36.04')"
      ]
     },
     "execution_count": 41,
     "metadata": {},
     "output_type": "execute_result"
    },
    {
     "data": {
      "image/png": "[encoded data removed]",
      "text/plain": [
       "<Figure size 432x288 with 1 Axes>"
      ]
     },
     "metadata": {
      "needs_background": "light"
     },
     "output_type": "display_data"
    }
   ],
   "source": [
    "#plotting and formatting scatter\n",
    "plt.scatter(ui_scat_fl['Insured Unemployment Rate'], ui_scat_fl['Anxiety'],marker=\"o\", facecolors=\"royalblue\", edgecolors=\"black\")\n",
    "\n",
    "#inserting chart labels\n",
    "plt.xlabel(\"Florida Unemployment %\")\n",
    "plt.ylabel(\"Florida Anxiety & Depression %\")\n",
    "plt.title(\"Florida Unemployment % vs Anxiety & Depression %\")\n",
    "\n",
    "#defining values\n",
    "x_values = ui_scat_fl['Insured Unemployment Rate']\n",
    "y_values = ui_scat_fl['Anxiety']\n",
    "\n",
    "#defining stats\n",
    "(slope, intercept, rvalue, pvalue, stderr) = linregress(x_values, y_values)\n",
    "\n",
    "#Defining regression\n",
    "regress_values = x_values * slope + intercept\n",
    "line_eq = \"y = \" + str(round(slope,2)) + \"x + \" + str(round(intercept,2))\n",
    "\n",
    "#Plotting line regress\n",
    "plt.plot(x_values,regress_values,\"r-\")\n",
    "\n",
    "#Printing R Value\n",
    "print(f\"R Val is {rvalue**2}\")\n",
    "\n",
    "#Plotting line equation on the graph\n",
    "plt.annotate(line_eq,(16,35),fontsize=15,color=\"red\") "
   ]
  },
  {
   "cell_type": "code",
   "execution_count": 42,
   "metadata": {},
   "outputs": [
    {
     "data": {
      "text/html": [
       "<div>\n",
       "<style scoped>\n",
       "    .dataframe tbody tr th:only-of-type {\n",
       "        vertical-align: middle;\n",
       "    }\n",
       "\n",
       "    .dataframe tbody tr th {\n",
       "        vertical-align: top;\n",
       "    }\n",
       "\n",
       "    .dataframe thead th {\n",
       "        text-align: right;\n",
       "    }\n",
       "</style>\n",
       "<table border=\"1\" class=\"dataframe\">\n",
       "  <thead>\n",
       "    <tr style=\"text-align: right;\">\n",
       "      <th></th>\n",
       "      <th>State</th>\n",
       "      <th>Weeknum</th>\n",
       "      <th>Anxiety</th>\n",
       "      <th>Insured Unemployment Rate</th>\n",
       "    </tr>\n",
       "  </thead>\n",
       "  <tbody>\n",
       "    <tr>\n",
       "      <th>36</th>\n",
       "      <td>Maryland</td>\n",
       "      <td>17</td>\n",
       "      <td>27.166667</td>\n",
       "      <td>8.89</td>\n",
       "    </tr>\n",
       "    <tr>\n",
       "      <th>37</th>\n",
       "      <td>Maryland</td>\n",
       "      <td>19</td>\n",
       "      <td>29.766667</td>\n",
       "      <td>9.92</td>\n",
       "    </tr>\n",
       "  </tbody>\n",
       "</table>\n",
       "</div>"
      ],
      "text/plain": [
       "       State  Weeknum    Anxiety  Insured Unemployment Rate\n",
       "36  Maryland       17  27.166667                       8.89\n",
       "37  Maryland       19  29.766667                       9.92"
      ]
     },
     "execution_count": 42,
     "metadata": {},
     "output_type": "execute_result"
    }
   ],
   "source": [
    "ui_scat_md = ui_ad_scat_clean[ui_ad_scat_clean[\"State\"] == \"Maryland\"]\n",
    "ui_scat_md.head(2)"
   ]
  },
  {
   "cell_type": "code",
   "execution_count": 44,
   "metadata": {},
   "outputs": [
    {
     "name": "stdout",
     "output_type": "stream",
     "text": [
      "R Val is 0.21517575379459852\n"
     ]
    },
    {
     "data": {
      "text/plain": [
       "Text(8.7, 24, 'y = -3.25x + 59.27')"
      ]
     },
     "execution_count": 44,
     "metadata": {},
     "output_type": "execute_result"
    },
    {
     "data": {
      "image/png": "[encoded data removed]",
      "text/plain": [
       "<Figure size 432x288 with 1 Axes>"
      ]
     },
     "metadata": {
      "needs_background": "light"
     },
     "output_type": "display_data"
    }
   ],
   "source": [
    "#plotting and formatting scatter\n",
    "plt.scatter(ui_scat_md['Insured Unemployment Rate'], ui_scat_md['Anxiety'],marker=\"o\", facecolors=\"royalblue\", edgecolors=\"black\")\n",
    "\n",
    "#inserting chart labels\n",
    "plt.xlabel(\"Maryland Unemployment %\")\n",
    "plt.ylabel(\"Maryland Anxiety & Depression %\")\n",
    "plt.title(\"Maryland Unemployment % vs Anxiety & Depression %\")\n",
    "\n",
    "#defining values\n",
    "x_values = ui_scat_md['Insured Unemployment Rate']\n",
    "y_values = ui_scat_md['Anxiety']\n",
    "\n",
    "#defining stats\n",
    "(slope, intercept, rvalue, pvalue, stderr) = linregress(x_values, y_values)\n",
    "\n",
    "#Defining regression\n",
    "regress_values = x_values * slope + intercept\n",
    "line_eq = \"y = \" + str(round(slope,2)) + \"x + \" + str(round(intercept,2))\n",
    "\n",
    "#Plotting line regress\n",
    "plt.plot(x_values,regress_values,\"r-\")\n",
    "\n",
    "#Printing R Value\n",
    "print(f\"R Val is {rvalue**2}\")\n",
    "\n",
    "#Plotting line equation on the graph\n",
    "plt.annotate(line_eq,(8.7,24),fontsize=15,color=\"red\") "
   ]
  },
  {
   "cell_type": "code",
   "execution_count": 34,
   "metadata": {},
   "outputs": [
    {
     "data": {
      "text/html": [
       "<div>\n",
       "<style scoped>\n",
       "    .dataframe tbody tr th:only-of-type {\n",
       "        vertical-align: middle;\n",
       "    }\n",
       "\n",
       "    .dataframe tbody tr th {\n",
       "        vertical-align: top;\n",
       "    }\n",
       "\n",
       "    .dataframe thead th {\n",
       "        text-align: right;\n",
       "    }\n",
       "</style>\n",
       "<table border=\"1\" class=\"dataframe\">\n",
       "  <thead>\n",
       "    <tr style=\"text-align: right;\">\n",
       "      <th></th>\n",
       "      <th>State</th>\n",
       "      <th>Weeknum</th>\n",
       "      <th>Anxiety</th>\n",
       "      <th>Insured Unemployment Rate</th>\n",
       "    </tr>\n",
       "  </thead>\n",
       "  <tbody>\n",
       "    <tr>\n",
       "      <th>48</th>\n",
       "      <td>South Dakota</td>\n",
       "      <td>17</td>\n",
       "      <td>21.733333</td>\n",
       "      <td>5.69</td>\n",
       "    </tr>\n",
       "    <tr>\n",
       "      <th>49</th>\n",
       "      <td>South Dakota</td>\n",
       "      <td>19</td>\n",
       "      <td>25.466667</td>\n",
       "      <td>6.03</td>\n",
       "    </tr>\n",
       "  </tbody>\n",
       "</table>\n",
       "</div>"
      ],
      "text/plain": [
       "           State  Weeknum    Anxiety  Insured Unemployment Rate\n",
       "48  South Dakota       17  21.733333                       5.69\n",
       "49  South Dakota       19  25.466667                       6.03"
      ]
     },
     "execution_count": 34,
     "metadata": {},
     "output_type": "execute_result"
    }
   ],
   "source": [
    "ui_scat_sd = ui_ad_scat_clean[ui_ad_scat_clean[\"State\"] == \"South Dakota\"]\n",
    "ui_scat_sd.head(2)"
   ]
  },
  {
   "cell_type": "code",
   "execution_count": 46,
   "metadata": {},
   "outputs": [
    {
     "name": "stdout",
     "output_type": "stream",
     "text": [
      "R Val is 0.3455963787349898\n"
     ]
    },
    {
     "data": {
      "text/plain": [
       "Text(5, 29, 'y = -2.57x + 38.96')"
      ]
     },
     "execution_count": 46,
     "metadata": {},
     "output_type": "execute_result"
    },
    {
     "data": {
      "image/png": "[encoded data removed]",
      "text/plain": [
       "<Figure size 432x288 with 1 Axes>"
      ]
     },
     "metadata": {
      "needs_background": "light"
     },
     "output_type": "display_data"
    }
   ],
   "source": [
    "#plotting and formatting scatter\n",
    "plt.scatter(ui_scat_sd['Insured Unemployment Rate'], ui_scat_sd['Anxiety'],marker=\"o\", facecolors=\"royalblue\", edgecolors=\"black\")\n",
    "\n",
    "#inserting chart labels\n",
    "plt.xlabel(\"South Dakota Unemployment %\")\n",
    "plt.ylabel(\"South Dakota Anxiety & Depression %\")\n",
    "plt.title(\"South Dakota Unemployment % vs Anxiety & Depression %\")\n",
    "\n",
    "#defining values\n",
    "x_values = ui_scat_sd['Insured Unemployment Rate']\n",
    "y_values = ui_scat_sd['Anxiety']\n",
    "\n",
    "#defining stats\n",
    "(slope, intercept, rvalue, pvalue, stderr) = linregress(x_values, y_values)\n",
    "\n",
    "#Defining regression\n",
    "regress_values = x_values * slope + intercept\n",
    "line_eq = \"y = \" + str(round(slope,2)) + \"x + \" + str(round(intercept,2))\n",
    "\n",
    "#Plotting line regress\n",
    "plt.plot(x_values,regress_values,\"r-\")\n",
    "\n",
    "#Printing R Value\n",
    "print(f\"R Val is {rvalue**2}\")\n",
    "\n",
    "#Plotting line equation on the graph\n",
    "plt.annotate(line_eq,(5, 29),fontsize=15,color=\"red\") "
   ]
  },
  {
   "cell_type": "code",
   "execution_count": 35,
   "metadata": {},
   "outputs": [
    {
     "data": {
      "text/html": [
       "<div>\n",
       "<style scoped>\n",
       "    .dataframe tbody tr th:only-of-type {\n",
       "        vertical-align: middle;\n",
       "    }\n",
       "\n",
       "    .dataframe tbody tr th {\n",
       "        vertical-align: top;\n",
       "    }\n",
       "\n",
       "    .dataframe thead th {\n",
       "        text-align: right;\n",
       "    }\n",
       "</style>\n",
       "<table border=\"1\" class=\"dataframe\">\n",
       "  <thead>\n",
       "    <tr style=\"text-align: right;\">\n",
       "      <th></th>\n",
       "      <th>State</th>\n",
       "      <th>Weeknum</th>\n",
       "      <th>Anxiety</th>\n",
       "      <th>Insured Unemployment Rate</th>\n",
       "    </tr>\n",
       "  </thead>\n",
       "  <tbody>\n",
       "    <tr>\n",
       "      <th>60</th>\n",
       "      <td>Texas</td>\n",
       "      <td>17</td>\n",
       "      <td>29.666667</td>\n",
       "      <td>9.21</td>\n",
       "    </tr>\n",
       "    <tr>\n",
       "      <th>61</th>\n",
       "      <td>Texas</td>\n",
       "      <td>19</td>\n",
       "      <td>31.333333</td>\n",
       "      <td>10.57</td>\n",
       "    </tr>\n",
       "  </tbody>\n",
       "</table>\n",
       "</div>"
      ],
      "text/plain": [
       "    State  Weeknum    Anxiety  Insured Unemployment Rate\n",
       "60  Texas       17  29.666667                       9.21\n",
       "61  Texas       19  31.333333                      10.57"
      ]
     },
     "execution_count": 35,
     "metadata": {},
     "output_type": "execute_result"
    }
   ],
   "source": [
    "ui_scat_tx = ui_ad_scat_clean[ui_ad_scat_clean[\"State\"] == \"Texas\"]\n",
    "ui_scat_tx.head(2)"
   ]
  },
  {
   "cell_type": "code",
   "execution_count": 49,
   "metadata": {},
   "outputs": [
    {
     "name": "stdout",
     "output_type": "stream",
     "text": [
      "R Val is 0.0576020984535148\n"
     ]
    },
    {
     "data": {
      "text/plain": [
       "Text(9.5, 37, 'y = 1.4x + 19.13')"
      ]
     },
     "execution_count": 49,
     "metadata": {},
     "output_type": "execute_result"
    },
    {
     "data": {
      "image/png": "[encoded data removed]",
      "text/plain": [
       "<Figure size 432x288 with 1 Axes>"
      ]
     },
     "metadata": {
      "needs_background": "light"
     },
     "output_type": "display_data"
    }
   ],
   "source": [
    "#plotting and formatting scatter\n",
    "plt.scatter(ui_scat_tx['Insured Unemployment Rate'], ui_scat_tx['Anxiety'],marker=\"o\", facecolors=\"royalblue\", edgecolors=\"black\")\n",
    "\n",
    "#inserting chart labels\n",
    "plt.xlabel(\"Texas Unemployment %\")\n",
    "plt.ylabel(\"Texas Anxiety & Depression %\")\n",
    "plt.title(\"Texas Unemployment % vs Anxiety & Depression %\")\n",
    "\n",
    "#defining values\n",
    "x_values = ui_scat_tx['Insured Unemployment Rate']\n",
    "y_values = ui_scat_tx['Anxiety']\n",
    "\n",
    "#defining stats\n",
    "(slope, intercept, rvalue, pvalue, stderr) = linregress(x_values, y_values)\n",
    "\n",
    "#Defining regression\n",
    "regress_values = x_values * slope + intercept\n",
    "line_eq = \"y = \" + str(round(slope,2)) + \"x + \" + str(round(intercept,2))\n",
    "\n",
    "#Plotting line regress\n",
    "plt.plot(x_values,regress_values,\"r-\")\n",
    "\n",
    "#Printing R Value\n",
    "print(f\"R Val is {rvalue**2}\")\n",
    "\n",
    "#Plotting line equation on the graph\n",
    "plt.annotate(line_eq,(9.5, 37),fontsize=15,color=\"red\") "
   ]
  }
 ],
 "metadata": {
  "kernelspec": {
   "display_name": "Python [conda env:pythondata] *",
   "language": "python",
   "name": "conda-env-pythondata-py"
  },
  "language_info": {
   "codemirror_mode": {
    "name": "ipython",
    "version": 3
   },
   "file_extension": ".py",
   "mimetype": "text/x-python",
   "name": "python",
   "nbconvert_exporter": "python",
   "pygments_lexer": "ipython3",
   "version": "3.8.5"
  }
 },
 "nbformat": 4,
 "nbformat_minor": 4
}
