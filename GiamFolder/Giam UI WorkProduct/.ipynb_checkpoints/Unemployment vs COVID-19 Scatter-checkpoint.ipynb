{
 "cells": [
  {
   "cell_type": "code",
   "execution_count": 60,
   "metadata": {},
   "outputs": [
    {
     "data": {
      "text/html": [
       "<div>\n",
       "<style scoped>\n",
       "    .dataframe tbody tr th:only-of-type {\n",
       "        vertical-align: middle;\n",
       "    }\n",
       "\n",
       "    .dataframe tbody tr th {\n",
       "        vertical-align: top;\n",
       "    }\n",
       "\n",
       "    .dataframe thead th {\n",
       "        text-align: right;\n",
       "    }\n",
       "</style>\n",
       "<table border=\"1\" class=\"dataframe\">\n",
       "  <thead>\n",
       "    <tr style=\"text-align: right;\">\n",
       "      <th></th>\n",
       "      <th>State</th>\n",
       "      <th>Filed week ended</th>\n",
       "      <th>Initial Claims</th>\n",
       "      <th>Reflecting Week Ended</th>\n",
       "      <th>Continued Claims</th>\n",
       "      <th>Covered Employment</th>\n",
       "      <th>Insured Unemployment Rate</th>\n",
       "      <th>Weeknum</th>\n",
       "      <th>Year</th>\n",
       "    </tr>\n",
       "  </thead>\n",
       "  <tbody>\n",
       "    <tr>\n",
       "      <th>0</th>\n",
       "      <td>California</td>\n",
       "      <td>2015-01-03</td>\n",
       "      <td>40,784</td>\n",
       "      <td>2014-12-27</td>\n",
       "      <td>420,154</td>\n",
       "      <td>15,245,478</td>\n",
       "      <td>2.76</td>\n",
       "      <td>52</td>\n",
       "      <td>2014</td>\n",
       "    </tr>\n",
       "    <tr>\n",
       "      <th>1</th>\n",
       "      <td>California</td>\n",
       "      <td>2015-01-10</td>\n",
       "      <td>66,906</td>\n",
       "      <td>2015-01-03</td>\n",
       "      <td>423,923</td>\n",
       "      <td>15,354,250</td>\n",
       "      <td>2.76</td>\n",
       "      <td>1</td>\n",
       "      <td>2015</td>\n",
       "    </tr>\n",
       "  </tbody>\n",
       "</table>\n",
       "</div>"
      ],
      "text/plain": [
       "        State Filed week ended Initial Claims Reflecting Week Ended  \\\n",
       "0  California       2015-01-03         40,784            2014-12-27   \n",
       "1  California       2015-01-10         66,906            2015-01-03   \n",
       "\n",
       "  Continued Claims Covered Employment  Insured Unemployment Rate  Weeknum  \\\n",
       "0          420,154         15,245,478                       2.76       52   \n",
       "1          423,923         15,354,250                       2.76        1   \n",
       "\n",
       "   Year  \n",
       "0  2014  \n",
       "1  2015  "
      ]
     },
     "execution_count": 60,
     "metadata": {},
     "output_type": "execute_result"
    }
   ],
   "source": [
    "# Dependencies and Setup\n",
    "import matplotlib.pyplot as plt\n",
    "import pandas as pd\n",
    "import numpy as np\n",
    "import requests\n",
    "from scipy.stats import linregress\n",
    "from pprint import pprint\n",
    "import json\n",
    "from datetime import datetime \n",
    "\n",
    "# Pull source UI file\n",
    "ui_clean = pd.read_csv(\"../Resources/ui_clean.csv\")\n",
    "\n",
    "st_abbrev = pd.read_csv(\"../Resources/state_abbrev.csv\")\n",
    "\n",
    "ui_clean['Year'] = pd.DatetimeIndex(ui_clean['Reflecting Week Ended']).year\n",
    "ui_clean.head(2)"
   ]
  },
  {
   "cell_type": "code",
   "execution_count": 61,
   "metadata": {},
   "outputs": [
    {
     "data": {
      "text/html": [
       "<div>\n",
       "<style scoped>\n",
       "    .dataframe tbody tr th:only-of-type {\n",
       "        vertical-align: middle;\n",
       "    }\n",
       "\n",
       "    .dataframe tbody tr th {\n",
       "        vertical-align: top;\n",
       "    }\n",
       "\n",
       "    .dataframe thead th {\n",
       "        text-align: right;\n",
       "    }\n",
       "</style>\n",
       "<table border=\"1\" class=\"dataframe\">\n",
       "  <thead>\n",
       "    <tr style=\"text-align: right;\">\n",
       "      <th></th>\n",
       "      <th></th>\n",
       "      <th>Insured Unemployment Rate</th>\n",
       "    </tr>\n",
       "    <tr>\n",
       "      <th>State</th>\n",
       "      <th>Weeknum</th>\n",
       "      <th></th>\n",
       "    </tr>\n",
       "  </thead>\n",
       "  <tbody>\n",
       "    <tr>\n",
       "      <th rowspan=\"2\" valign=\"top\">California</th>\n",
       "      <th>1</th>\n",
       "      <td>2.06</td>\n",
       "    </tr>\n",
       "    <tr>\n",
       "      <th>2</th>\n",
       "      <td>2.18</td>\n",
       "    </tr>\n",
       "  </tbody>\n",
       "</table>\n",
       "</div>"
      ],
      "text/plain": [
       "                    Insured Unemployment Rate\n",
       "State      Weeknum                           \n",
       "California 1                             2.06\n",
       "           2                             2.18"
      ]
     },
     "execution_count": 61,
     "metadata": {},
     "output_type": "execute_result"
    }
   ],
   "source": [
    "ui_2020_parse = ui_clean[ui_clean[\"Year\"] == 2020]\n",
    "ui_2020 = ui_2020_parse.groupby(['State', 'Weeknum'])[\"Insured Unemployment Rate\"].mean()\n",
    "ui_2020 = pd.DataFrame(ui_2020)\n",
    "ui_2020.to_csv(\"../Resources/ui_2020.csv\", index=True)\n",
    "ui_2020.head(2)"
   ]
  },
  {
   "cell_type": "code",
   "execution_count": 62,
   "metadata": {},
   "outputs": [
    {
     "data": {
      "image/png": "[encoded data removed]",
      "text/plain": [
       "<Figure size 432x288 with 1 Axes>"
      ]
     },
     "metadata": {
      "needs_background": "light"
     },
     "output_type": "display_data"
    }
   ],
   "source": [
    "ui_2020.pivot_table('Insured Unemployment Rate', index='Weeknum', columns='State', aggfunc='mean').plot()\n",
    "plt.axis([0, 32, 0, 32])\n",
    "plt.ylabel('Unemployment %')\n",
    "plt.title(\"2020 Weekly Unemployment % by State\")\n",
    "plt.savefig('../output_data/UI_CV_Scat/2020_wk_UI_allstates_linechart.png')"
   ]
  },
  {
   "cell_type": "code",
   "execution_count": 63,
   "metadata": {},
   "outputs": [],
   "source": [
    "###############################"
   ]
  },
  {
   "cell_type": "code",
   "execution_count": 64,
   "metadata": {},
   "outputs": [
    {
     "data": {
      "text/html": [
       "<div>\n",
       "<style scoped>\n",
       "    .dataframe tbody tr th:only-of-type {\n",
       "        vertical-align: middle;\n",
       "    }\n",
       "\n",
       "    .dataframe tbody tr th {\n",
       "        vertical-align: top;\n",
       "    }\n",
       "\n",
       "    .dataframe thead th {\n",
       "        text-align: right;\n",
       "    }\n",
       "</style>\n",
       "<table border=\"1\" class=\"dataframe\">\n",
       "  <thead>\n",
       "    <tr style=\"text-align: right;\">\n",
       "      <th></th>\n",
       "      <th>Date</th>\n",
       "      <th>Code</th>\n",
       "      <th>Positive</th>\n",
       "      <th>Positive Increase</th>\n",
       "      <th>Death Increase</th>\n",
       "      <th>Death Confirmed</th>\n",
       "      <th>Death Probable</th>\n",
       "      <th>Hospitalized</th>\n",
       "      <th>Negative</th>\n",
       "      <th>Recovered</th>\n",
       "      <th>Total</th>\n",
       "      <th>Total Test Results</th>\n",
       "      <th>Date Format</th>\n",
       "      <th>weeknum</th>\n",
       "    </tr>\n",
       "  </thead>\n",
       "  <tbody>\n",
       "    <tr>\n",
       "      <th>0</th>\n",
       "      <td>20200823</td>\n",
       "      <td>CA</td>\n",
       "      <td>663669.0</td>\n",
       "      <td>6777.0</td>\n",
       "      <td>146.0</td>\n",
       "      <td>12134.0</td>\n",
       "      <td>NaN</td>\n",
       "      <td>NaN</td>\n",
       "      <td>9877362.0</td>\n",
       "      <td>NaN</td>\n",
       "      <td>10541031.0</td>\n",
       "      <td>10541031.0</td>\n",
       "      <td>2020-08-23</td>\n",
       "      <td>34</td>\n",
       "    </tr>\n",
       "  </tbody>\n",
       "</table>\n",
       "</div>"
      ],
      "text/plain": [
       "       Date Code  Positive  Positive Increase  Death Increase  \\\n",
       "0  20200823   CA  663669.0             6777.0           146.0   \n",
       "\n",
       "   Death Confirmed  Death Probable  Hospitalized   Negative  Recovered  \\\n",
       "0          12134.0             NaN           NaN  9877362.0        NaN   \n",
       "\n",
       "        Total  Total Test Results Date Format  weeknum  \n",
       "0  10541031.0          10541031.0  2020-08-23       34  "
      ]
     },
     "execution_count": 64,
     "metadata": {},
     "output_type": "execute_result"
    }
   ],
   "source": [
    "# Pull source ad file\n",
    "cv_df = pd.read_csv(\"../Resources/clean_covid.csv\")\n",
    "cv_full_state_name = cv_df.rename(columns={'State': 'Code'})\n",
    "# cv_full_state_name = cv_df.rename(columns={'weeknum': 'Weeknum'})\n",
    "cv_full_state_name.head(1)"
   ]
  },
  {
   "cell_type": "code",
   "execution_count": 65,
   "metadata": {},
   "outputs": [
    {
     "data": {
      "text/html": [
       "<div>\n",
       "<style scoped>\n",
       "    .dataframe tbody tr th:only-of-type {\n",
       "        vertical-align: middle;\n",
       "    }\n",
       "\n",
       "    .dataframe tbody tr th {\n",
       "        vertical-align: top;\n",
       "    }\n",
       "\n",
       "    .dataframe thead th {\n",
       "        text-align: right;\n",
       "    }\n",
       "</style>\n",
       "<table border=\"1\" class=\"dataframe\">\n",
       "  <thead>\n",
       "    <tr style=\"text-align: right;\">\n",
       "      <th></th>\n",
       "      <th>Date</th>\n",
       "      <th>Code</th>\n",
       "      <th>Positive</th>\n",
       "      <th>Positive Increase</th>\n",
       "      <th>Death Increase</th>\n",
       "      <th>Death Confirmed</th>\n",
       "      <th>Death Probable</th>\n",
       "      <th>Hospitalized</th>\n",
       "      <th>Negative</th>\n",
       "      <th>Recovered</th>\n",
       "      <th>Total</th>\n",
       "      <th>Total Test Results</th>\n",
       "      <th>Date Format</th>\n",
       "      <th>weeknum</th>\n",
       "      <th>State</th>\n",
       "      <th>Abbrev</th>\n",
       "    </tr>\n",
       "  </thead>\n",
       "  <tbody>\n",
       "    <tr>\n",
       "      <th>0</th>\n",
       "      <td>20200823</td>\n",
       "      <td>CA</td>\n",
       "      <td>663669.0</td>\n",
       "      <td>6777.0</td>\n",
       "      <td>146.0</td>\n",
       "      <td>12134.0</td>\n",
       "      <td>NaN</td>\n",
       "      <td>NaN</td>\n",
       "      <td>9877362.0</td>\n",
       "      <td>NaN</td>\n",
       "      <td>10541031.0</td>\n",
       "      <td>10541031.0</td>\n",
       "      <td>2020-08-23</td>\n",
       "      <td>34</td>\n",
       "      <td>California</td>\n",
       "      <td>Calif.</td>\n",
       "    </tr>\n",
       "  </tbody>\n",
       "</table>\n",
       "</div>"
      ],
      "text/plain": [
       "       Date Code  Positive  Positive Increase  Death Increase  \\\n",
       "0  20200823   CA  663669.0             6777.0           146.0   \n",
       "\n",
       "   Death Confirmed  Death Probable  Hospitalized   Negative  Recovered  \\\n",
       "0          12134.0             NaN           NaN  9877362.0        NaN   \n",
       "\n",
       "        Total  Total Test Results Date Format  weeknum       State  Abbrev  \n",
       "0  10541031.0          10541031.0  2020-08-23       34  California  Calif.  "
      ]
     },
     "execution_count": 65,
     "metadata": {},
     "output_type": "execute_result"
    }
   ],
   "source": [
    "cv_new_clean = pd.merge(cv_full_state_name, st_abbrev, on='Code', how='left')\n",
    "cv_new_clean.head(1)"
   ]
  },
  {
   "cell_type": "code",
   "execution_count": 66,
   "metadata": {},
   "outputs": [
    {
     "data": {
      "text/html": [
       "<div>\n",
       "<style scoped>\n",
       "    .dataframe tbody tr th:only-of-type {\n",
       "        vertical-align: middle;\n",
       "    }\n",
       "\n",
       "    .dataframe tbody tr th {\n",
       "        vertical-align: top;\n",
       "    }\n",
       "\n",
       "    .dataframe thead th {\n",
       "        text-align: right;\n",
       "    }\n",
       "</style>\n",
       "<table border=\"1\" class=\"dataframe\">\n",
       "  <thead>\n",
       "    <tr style=\"text-align: right;\">\n",
       "      <th></th>\n",
       "      <th>Date</th>\n",
       "      <th>Code</th>\n",
       "      <th>Positive</th>\n",
       "      <th>Positive Increase</th>\n",
       "      <th>Death Increase</th>\n",
       "      <th>Death Confirmed</th>\n",
       "      <th>Death Probable</th>\n",
       "      <th>Hospitalized</th>\n",
       "      <th>Negative</th>\n",
       "      <th>Recovered</th>\n",
       "      <th>Total</th>\n",
       "      <th>Total Test Results</th>\n",
       "      <th>Date Format</th>\n",
       "      <th>Weeknum</th>\n",
       "      <th>State</th>\n",
       "      <th>Abbrev</th>\n",
       "    </tr>\n",
       "  </thead>\n",
       "  <tbody>\n",
       "    <tr>\n",
       "      <th>0</th>\n",
       "      <td>20200823</td>\n",
       "      <td>CA</td>\n",
       "      <td>663669.0</td>\n",
       "      <td>6777.0</td>\n",
       "      <td>146.0</td>\n",
       "      <td>12134.0</td>\n",
       "      <td>NaN</td>\n",
       "      <td>NaN</td>\n",
       "      <td>9877362.0</td>\n",
       "      <td>NaN</td>\n",
       "      <td>10541031.0</td>\n",
       "      <td>10541031.0</td>\n",
       "      <td>2020-08-23</td>\n",
       "      <td>34</td>\n",
       "      <td>California</td>\n",
       "      <td>Calif.</td>\n",
       "    </tr>\n",
       "  </tbody>\n",
       "</table>\n",
       "</div>"
      ],
      "text/plain": [
       "       Date Code  Positive  Positive Increase  Death Increase  \\\n",
       "0  20200823   CA  663669.0             6777.0           146.0   \n",
       "\n",
       "   Death Confirmed  Death Probable  Hospitalized   Negative  Recovered  \\\n",
       "0          12134.0             NaN           NaN  9877362.0        NaN   \n",
       "\n",
       "        Total  Total Test Results Date Format  Weeknum       State  Abbrev  \n",
       "0  10541031.0          10541031.0  2020-08-23       34  California  Calif.  "
      ]
     },
     "execution_count": 66,
     "metadata": {},
     "output_type": "execute_result"
    }
   ],
   "source": [
    "cv_new_clean = cv_new_clean.rename(columns={'weeknum': 'Weeknum'})\n",
    "cv_new_clean.head(1)"
   ]
  },
  {
   "cell_type": "code",
   "execution_count": 67,
   "metadata": {},
   "outputs": [],
   "source": [
    "cv_cal = cv_new_clean[cv_new_clean[\"State\"] == \"California\"]\n",
    "cv_cal_group = cv_cal.groupby(['State', 'Weeknum'])[\"Positive Increase\"].mean()\n",
    "cv_cal_group = pd.DataFrame(cv_cal_group)\n",
    "# cv_cal_group.to_csv(\"../Resources/cv_2020.csv\", index=True)"
   ]
  },
  {
   "cell_type": "code",
   "execution_count": 68,
   "metadata": {},
   "outputs": [],
   "source": [
    "cv_fl = cv_new_clean[cv_new_clean[\"State\"] == \"Florida\"]\n",
    "cv_fl_group = cv_fl.groupby(['State', 'Weeknum'])[\"Positive Increase\"].mean()\n",
    "cv_fl_group = pd.DataFrame(cv_fl_group)\n",
    "# cv_cal_group.to_csv(\"../Resources/cv_2020.csv\", index=True)"
   ]
  },
  {
   "cell_type": "code",
   "execution_count": 69,
   "metadata": {},
   "outputs": [],
   "source": [
    "cv_ga = cv_new_clean[cv_new_clean[\"State\"] == \"Georgia\"]\n",
    "cv_ga_group = cv_ga.groupby(['State', 'Weeknum'])[\"Positive Increase\"].mean()\n",
    "cv_ga_group = pd.DataFrame(cv_ga_group)\n",
    "# cv_cal_group.to_csv(\"../Resources/cv_2020.csv\", index=True)"
   ]
  },
  {
   "cell_type": "code",
   "execution_count": 70,
   "metadata": {},
   "outputs": [],
   "source": [
    "cv_md = cv_new_clean[cv_new_clean[\"State\"] == \"Maryland\"]\n",
    "cv_md_group = cv_md.groupby(['State', 'Weeknum'])[\"Positive Increase\"].mean()\n",
    "cv_md_group = pd.DataFrame(cv_md_group)\n",
    "# cv_cal_group.to_csv(\"../Resources/cv_2020.csv\", index=True)"
   ]
  },
  {
   "cell_type": "code",
   "execution_count": 71,
   "metadata": {},
   "outputs": [],
   "source": [
    "cv_sd = cv_new_clean[cv_new_clean[\"State\"] == \"South Dakota\"]\n",
    "cv_sd_group = cv_sd.groupby(['State', 'Weeknum'])[\"Positive Increase\"].mean()\n",
    "cv_sd_group = pd.DataFrame(cv_sd_group)\n",
    "# cv_cal_group.to_csv(\"../Resources/cv_2020.csv\", index=True)"
   ]
  },
  {
   "cell_type": "code",
   "execution_count": 72,
   "metadata": {},
   "outputs": [],
   "source": [
    "cv_tx = cv_new_clean[cv_new_clean[\"State\"] == \"Texas\"]\n",
    "cv_tx_group = cv_tx.groupby(['State', 'Weeknum'])[\"Positive Increase\"].mean()\n",
    "cv_tx_group = pd.DataFrame(cv_tx_group)\n",
    "# cv_cal_group.to_csv(\"../Resources/cv_2020.csv\", index=True)"
   ]
  },
  {
   "cell_type": "code",
   "execution_count": 73,
   "metadata": {},
   "outputs": [
    {
     "data": {
      "text/html": [
       "<div>\n",
       "<style scoped>\n",
       "    .dataframe tbody tr th:only-of-type {\n",
       "        vertical-align: middle;\n",
       "    }\n",
       "\n",
       "    .dataframe tbody tr th {\n",
       "        vertical-align: top;\n",
       "    }\n",
       "\n",
       "    .dataframe thead th {\n",
       "        text-align: right;\n",
       "    }\n",
       "</style>\n",
       "<table border=\"1\" class=\"dataframe\">\n",
       "  <thead>\n",
       "    <tr style=\"text-align: right;\">\n",
       "      <th></th>\n",
       "      <th></th>\n",
       "      <th>Positive Increase</th>\n",
       "    </tr>\n",
       "    <tr>\n",
       "      <th>State</th>\n",
       "      <th>Weeknum</th>\n",
       "      <th></th>\n",
       "    </tr>\n",
       "  </thead>\n",
       "  <tbody>\n",
       "    <tr>\n",
       "      <th rowspan=\"5\" valign=\"top\">California</th>\n",
       "      <th>10</th>\n",
       "      <td>7.000000</td>\n",
       "    </tr>\n",
       "    <tr>\n",
       "      <th>11</th>\n",
       "      <td>29.285714</td>\n",
       "    </tr>\n",
       "    <tr>\n",
       "      <th>12</th>\n",
       "      <td>177.571429</td>\n",
       "    </tr>\n",
       "    <tr>\n",
       "      <th>13</th>\n",
       "      <td>596.000000</td>\n",
       "    </tr>\n",
       "    <tr>\n",
       "      <th>14</th>\n",
       "      <td>1104.285714</td>\n",
       "    </tr>\n",
       "  </tbody>\n",
       "</table>\n",
       "</div>"
      ],
      "text/plain": [
       "                    Positive Increase\n",
       "State      Weeknum                   \n",
       "California 10                7.000000\n",
       "           11               29.285714\n",
       "           12              177.571429\n",
       "           13              596.000000\n",
       "           14             1104.285714"
      ]
     },
     "execution_count": 73,
     "metadata": {},
     "output_type": "execute_result"
    }
   ],
   "source": [
    "cal_fla = cv_cal_group.append(cv_fl_group)\n",
    "cal_fla_ga = cal_fla.append(cv_ga_group)\n",
    "cal_fla_ga_md =cal_fla_ga.append(cv_md_group)\n",
    "cal_fla_ga_md_sd = cal_fla_ga_md.append(cv_sd_group)\n",
    "cv_all_df = cal_fla_ga_md_sd.append(cv_tx_group)\n",
    "cv_all_df = pd.DataFrame(cv_all_df)\n",
    "cv_all_df.to_csv(\"../Resources/cv_all_df.csv\", index=True)\n",
    "cv_all_df.head()"
   ]
  },
  {
   "cell_type": "code",
   "execution_count": 74,
   "metadata": {},
   "outputs": [
    {
     "data": {
      "text/html": [
       "<div>\n",
       "<style scoped>\n",
       "    .dataframe tbody tr th:only-of-type {\n",
       "        vertical-align: middle;\n",
       "    }\n",
       "\n",
       "    .dataframe tbody tr th {\n",
       "        vertical-align: top;\n",
       "    }\n",
       "\n",
       "    .dataframe thead th {\n",
       "        text-align: right;\n",
       "    }\n",
       "</style>\n",
       "<table border=\"1\" class=\"dataframe\">\n",
       "  <thead>\n",
       "    <tr style=\"text-align: right;\">\n",
       "      <th></th>\n",
       "      <th>State</th>\n",
       "      <th>Weeknum</th>\n",
       "      <th>COVID-19</th>\n",
       "      <th>Insured Unemployment Rate</th>\n",
       "    </tr>\n",
       "  </thead>\n",
       "  <tbody>\n",
       "    <tr>\n",
       "      <th>0</th>\n",
       "      <td>California</td>\n",
       "      <td>10</td>\n",
       "      <td>7.000000</td>\n",
       "      <td>2.04</td>\n",
       "    </tr>\n",
       "    <tr>\n",
       "      <th>1</th>\n",
       "      <td>California</td>\n",
       "      <td>11</td>\n",
       "      <td>29.285714</td>\n",
       "      <td>2.44</td>\n",
       "    </tr>\n",
       "    <tr>\n",
       "      <th>2</th>\n",
       "      <td>California</td>\n",
       "      <td>12</td>\n",
       "      <td>177.571429</td>\n",
       "      <td>2.32</td>\n",
       "    </tr>\n",
       "    <tr>\n",
       "      <th>3</th>\n",
       "      <td>California</td>\n",
       "      <td>13</td>\n",
       "      <td>596.000000</td>\n",
       "      <td>6.24</td>\n",
       "    </tr>\n",
       "    <tr>\n",
       "      <th>4</th>\n",
       "      <td>California</td>\n",
       "      <td>14</td>\n",
       "      <td>1104.285714</td>\n",
       "      <td>8.25</td>\n",
       "    </tr>\n",
       "    <tr>\n",
       "      <th>...</th>\n",
       "      <td>...</td>\n",
       "      <td>...</td>\n",
       "      <td>...</td>\n",
       "      <td>...</td>\n",
       "    </tr>\n",
       "    <tr>\n",
       "      <th>199</th>\n",
       "      <td>Texas</td>\n",
       "      <td>5</td>\n",
       "      <td>NaN</td>\n",
       "      <td>1.05</td>\n",
       "    </tr>\n",
       "    <tr>\n",
       "      <th>200</th>\n",
       "      <td>Texas</td>\n",
       "      <td>6</td>\n",
       "      <td>NaN</td>\n",
       "      <td>1.09</td>\n",
       "    </tr>\n",
       "    <tr>\n",
       "      <th>201</th>\n",
       "      <td>Texas</td>\n",
       "      <td>7</td>\n",
       "      <td>NaN</td>\n",
       "      <td>1.04</td>\n",
       "    </tr>\n",
       "    <tr>\n",
       "      <th>202</th>\n",
       "      <td>Texas</td>\n",
       "      <td>8</td>\n",
       "      <td>NaN</td>\n",
       "      <td>1.09</td>\n",
       "    </tr>\n",
       "    <tr>\n",
       "      <th>203</th>\n",
       "      <td>Texas</td>\n",
       "      <td>9</td>\n",
       "      <td>NaN</td>\n",
       "      <td>1.02</td>\n",
       "    </tr>\n",
       "  </tbody>\n",
       "</table>\n",
       "<p>204 rows × 4 columns</p>\n",
       "</div>"
      ],
      "text/plain": [
       "          State  Weeknum     COVID-19  Insured Unemployment Rate\n",
       "0    California       10     7.000000                       2.04\n",
       "1    California       11    29.285714                       2.44\n",
       "2    California       12   177.571429                       2.32\n",
       "3    California       13   596.000000                       6.24\n",
       "4    California       14  1104.285714                       8.25\n",
       "..          ...      ...          ...                        ...\n",
       "199       Texas        5          NaN                       1.05\n",
       "200       Texas        6          NaN                       1.09\n",
       "201       Texas        7          NaN                       1.04\n",
       "202       Texas        8          NaN                       1.09\n",
       "203       Texas        9          NaN                       1.02\n",
       "\n",
       "[204 rows x 4 columns]"
      ]
     },
     "execution_count": 74,
     "metadata": {},
     "output_type": "execute_result"
    }
   ],
   "source": [
    "cv_all_df = cv_all_df.rename(columns={\"Positive Increase\": \"COVID-19\"})\n",
    "ui_cv_forscatter = pd.merge(cv_all_df, ui_2020, how= \"outer\", on = [\"State\", \"Weeknum\"])\n",
    "ui_cv_forscatter = ui_cv_forscatter.reset_index()\n",
    "ui_cv_forscatter"
   ]
  },
  {
   "cell_type": "code",
   "execution_count": 75,
   "metadata": {},
   "outputs": [
    {
     "data": {
      "text/html": [
       "<div>\n",
       "<style scoped>\n",
       "    .dataframe tbody tr th:only-of-type {\n",
       "        vertical-align: middle;\n",
       "    }\n",
       "\n",
       "    .dataframe tbody tr th {\n",
       "        vertical-align: top;\n",
       "    }\n",
       "\n",
       "    .dataframe thead th {\n",
       "        text-align: right;\n",
       "    }\n",
       "</style>\n",
       "<table border=\"1\" class=\"dataframe\">\n",
       "  <thead>\n",
       "    <tr style=\"text-align: right;\">\n",
       "      <th></th>\n",
       "      <th>State</th>\n",
       "      <th>Weeknum</th>\n",
       "      <th>COVID-19</th>\n",
       "      <th>Insured Unemployment Rate</th>\n",
       "    </tr>\n",
       "  </thead>\n",
       "  <tbody>\n",
       "    <tr>\n",
       "      <th>0</th>\n",
       "      <td>California</td>\n",
       "      <td>10</td>\n",
       "      <td>7.000000</td>\n",
       "      <td>2.04</td>\n",
       "    </tr>\n",
       "    <tr>\n",
       "      <th>1</th>\n",
       "      <td>California</td>\n",
       "      <td>11</td>\n",
       "      <td>29.285714</td>\n",
       "      <td>2.44</td>\n",
       "    </tr>\n",
       "    <tr>\n",
       "      <th>2</th>\n",
       "      <td>California</td>\n",
       "      <td>12</td>\n",
       "      <td>177.571429</td>\n",
       "      <td>2.32</td>\n",
       "    </tr>\n",
       "    <tr>\n",
       "      <th>3</th>\n",
       "      <td>California</td>\n",
       "      <td>13</td>\n",
       "      <td>596.000000</td>\n",
       "      <td>6.24</td>\n",
       "    </tr>\n",
       "    <tr>\n",
       "      <th>4</th>\n",
       "      <td>California</td>\n",
       "      <td>14</td>\n",
       "      <td>1104.285714</td>\n",
       "      <td>8.25</td>\n",
       "    </tr>\n",
       "    <tr>\n",
       "      <th>...</th>\n",
       "      <td>...</td>\n",
       "      <td>...</td>\n",
       "      <td>...</td>\n",
       "      <td>...</td>\n",
       "    </tr>\n",
       "    <tr>\n",
       "      <th>142</th>\n",
       "      <td>Texas</td>\n",
       "      <td>27</td>\n",
       "      <td>6644.428571</td>\n",
       "      <td>10.61</td>\n",
       "    </tr>\n",
       "    <tr>\n",
       "      <th>143</th>\n",
       "      <td>Texas</td>\n",
       "      <td>28</td>\n",
       "      <td>9059.857143</td>\n",
       "      <td>10.08</td>\n",
       "    </tr>\n",
       "    <tr>\n",
       "      <th>144</th>\n",
       "      <td>Texas</td>\n",
       "      <td>29</td>\n",
       "      <td>9481.714286</td>\n",
       "      <td>10.82</td>\n",
       "    </tr>\n",
       "    <tr>\n",
       "      <th>145</th>\n",
       "      <td>Texas</td>\n",
       "      <td>30</td>\n",
       "      <td>8089.428571</td>\n",
       "      <td>9.93</td>\n",
       "    </tr>\n",
       "    <tr>\n",
       "      <th>146</th>\n",
       "      <td>Texas</td>\n",
       "      <td>31</td>\n",
       "      <td>6975.571429</td>\n",
       "      <td>9.87</td>\n",
       "    </tr>\n",
       "  </tbody>\n",
       "</table>\n",
       "<p>132 rows × 4 columns</p>\n",
       "</div>"
      ],
      "text/plain": [
       "          State  Weeknum     COVID-19  Insured Unemployment Rate\n",
       "0    California       10     7.000000                       2.04\n",
       "1    California       11    29.285714                       2.44\n",
       "2    California       12   177.571429                       2.32\n",
       "3    California       13   596.000000                       6.24\n",
       "4    California       14  1104.285714                       8.25\n",
       "..          ...      ...          ...                        ...\n",
       "142       Texas       27  6644.428571                      10.61\n",
       "143       Texas       28  9059.857143                      10.08\n",
       "144       Texas       29  9481.714286                      10.82\n",
       "145       Texas       30  8089.428571                       9.93\n",
       "146       Texas       31  6975.571429                       9.87\n",
       "\n",
       "[132 rows x 4 columns]"
      ]
     },
     "execution_count": 75,
     "metadata": {},
     "output_type": "execute_result"
    }
   ],
   "source": [
    "ui_cv_scat_clean = ui_cv_forscatter.dropna(how='any')\n",
    "ui_cv_scat_clean.to_csv(\"../Resources/ui_cv_scat_clean.csv\", index=True)\n",
    "ui_cv_scat_clean"
   ]
  },
  {
   "cell_type": "code",
   "execution_count": 77,
   "metadata": {},
   "outputs": [
    {
     "name": "stdout",
     "output_type": "stream",
     "text": [
      "R Val is 0.11049865197151916\n"
     ]
    },
    {
     "data": {
      "image/png": "[encoded data removed]",
      "text/plain": [
       "<Figure size 432x288 with 1 Axes>"
      ]
     },
     "metadata": {
      "needs_background": "light"
     },
     "output_type": "display_data"
    }
   ],
   "source": [
    "#plotting and formatting scatter\n",
    "plt.scatter(ui_cv_scat_clean['Insured Unemployment Rate'], ui_cv_scat_clean['COVID-19'],marker=\"o\", facecolors=\"tab:blue\", edgecolors=\"dimgray\")\n",
    "\n",
    "#inserting chart labels\n",
    "plt.xlabel(\"State Unemployment %\")\n",
    "plt.ylabel(\"COVID-19 Positive Increases\")\n",
    "plt.title(\"6-State Weekly UI % vs COVID-19 Positive Increases\")\n",
    "\n",
    "#defining values\n",
    "x_values = ui_cv_scat_clean['Insured Unemployment Rate']\n",
    "y_values = ui_cv_scat_clean['COVID-19']\n",
    "\n",
    "#defining stats\n",
    "(slope, intercept, rvalue, pvalue, stderr) = linregress(x_values, y_values)\n",
    "\n",
    "#Defining regression\n",
    "regress_values = x_values * slope + intercept\n",
    "line_eq = \"y = \" + str(round(slope,2)) + \"x + \" + str(round(intercept,2))\n",
    "\n",
    "#Plotting line regress\n",
    "plt.plot(x_values,regress_values,\"r-\")\n",
    "\n",
    "#Printing R Value\n",
    "print(f\"R Val is {rvalue**2}\")\n",
    "\n",
    "#Plotting line equation on the graph\n",
    "plt.annotate(line_eq,(13,11000),fontsize=15,color=\"red\") \n",
    "\n",
    "plt.savefig('../output_data/UI_CV_Scat/Allstates_UI_vs_CV_scat.png')"
   ]
  },
  {
   "cell_type": "markdown",
   "metadata": {},
   "source": [
    "THIS SCATTER INCLUDES WEEKS 10-34.  SCHOOLS BEGAN SHUTTING IN AROUND WEEK 13"
   ]
  },
  {
   "cell_type": "code",
   "execution_count": 78,
   "metadata": {},
   "outputs": [
    {
     "data": {
      "text/html": [
       "<div>\n",
       "<style scoped>\n",
       "    .dataframe tbody tr th:only-of-type {\n",
       "        vertical-align: middle;\n",
       "    }\n",
       "\n",
       "    .dataframe tbody tr th {\n",
       "        vertical-align: top;\n",
       "    }\n",
       "\n",
       "    .dataframe thead th {\n",
       "        text-align: right;\n",
       "    }\n",
       "</style>\n",
       "<table border=\"1\" class=\"dataframe\">\n",
       "  <thead>\n",
       "    <tr style=\"text-align: right;\">\n",
       "      <th></th>\n",
       "      <th>State</th>\n",
       "      <th>Weeknum</th>\n",
       "      <th>COVID-19</th>\n",
       "      <th>Insured Unemployment Rate</th>\n",
       "    </tr>\n",
       "  </thead>\n",
       "  <tbody>\n",
       "    <tr>\n",
       "      <th>0</th>\n",
       "      <td>California</td>\n",
       "      <td>10</td>\n",
       "      <td>7.000000</td>\n",
       "      <td>2.04</td>\n",
       "    </tr>\n",
       "    <tr>\n",
       "      <th>1</th>\n",
       "      <td>California</td>\n",
       "      <td>11</td>\n",
       "      <td>29.285714</td>\n",
       "      <td>2.44</td>\n",
       "    </tr>\n",
       "  </tbody>\n",
       "</table>\n",
       "</div>"
      ],
      "text/plain": [
       "        State  Weeknum   COVID-19  Insured Unemployment Rate\n",
       "0  California       10   7.000000                       2.04\n",
       "1  California       11  29.285714                       2.44"
      ]
     },
     "execution_count": 78,
     "metadata": {},
     "output_type": "execute_result"
    }
   ],
   "source": [
    "ui_scat_cal = ui_cv_scat_clean[ui_cv_scat_clean[\"State\"] == \"California\"]\n",
    "ui_scat_cal.head(2)"
   ]
  },
  {
   "cell_type": "code",
   "execution_count": 79,
   "metadata": {},
   "outputs": [
    {
     "name": "stdout",
     "output_type": "stream",
     "text": [
      "R Val is 0.2061400286961551\n"
     ]
    },
    {
     "data": {
      "image/png": "[encoded data removed]",
      "text/plain": [
       "<Figure size 432x288 with 1 Axes>"
      ]
     },
     "metadata": {
      "needs_background": "light"
     },
     "output_type": "display_data"
    }
   ],
   "source": [
    "#plotting and formatting scatter\n",
    "plt.scatter(ui_scat_cal['Insured Unemployment Rate'], ui_scat_cal['COVID-19'],marker=\"o\", facecolors=\"tab:blue\", edgecolors=\"dimgray\")\n",
    "\n",
    "#inserting chart labels\n",
    "plt.xlabel(\"State Unemployment %\")\n",
    "plt.ylabel(\"COVID-19 Positive Increases\")\n",
    "plt.title(\"California Unemployment % vs COVID-19 Positive Increases\")\n",
    "\n",
    "#defining values\n",
    "x_values = ui_scat_cal['Insured Unemployment Rate']\n",
    "y_values = ui_scat_cal['COVID-19']\n",
    "\n",
    "#defining stats\n",
    "(slope, intercept, rvalue, pvalue, stderr) = linregress(x_values, y_values)\n",
    "\n",
    "#Defining regression\n",
    "regress_values = x_values * slope + intercept\n",
    "line_eq = \"y = \" + str(round(slope,2)) + \"x + \" + str(round(intercept,2))\n",
    "\n",
    "#Plotting line regress\n",
    "plt.plot(x_values,regress_values,\"r-\")\n",
    "\n",
    "#Printing R Value\n",
    "print(f\"R Val is {rvalue**2}\")\n",
    "\n",
    "#Plotting line equation on the graph\n",
    "plt.annotate(line_eq,(2, 6200),fontsize=15,color=\"red\") \n",
    "plt.savefig('../output_data/UI_CV_Scat/CAL_UI_vs_CV_scat.png')"
   ]
  },
  {
   "cell_type": "code",
   "execution_count": 80,
   "metadata": {},
   "outputs": [
    {
     "data": {
      "text/html": [
       "<div>\n",
       "<style scoped>\n",
       "    .dataframe tbody tr th:only-of-type {\n",
       "        vertical-align: middle;\n",
       "    }\n",
       "\n",
       "    .dataframe tbody tr th {\n",
       "        vertical-align: top;\n",
       "    }\n",
       "\n",
       "    .dataframe thead th {\n",
       "        text-align: right;\n",
       "    }\n",
       "</style>\n",
       "<table border=\"1\" class=\"dataframe\">\n",
       "  <thead>\n",
       "    <tr style=\"text-align: right;\">\n",
       "      <th></th>\n",
       "      <th>State</th>\n",
       "      <th>Weeknum</th>\n",
       "      <th>COVID-19</th>\n",
       "      <th>Insured Unemployment Rate</th>\n",
       "    </tr>\n",
       "  </thead>\n",
       "  <tbody>\n",
       "    <tr>\n",
       "      <th>25</th>\n",
       "      <td>Florida</td>\n",
       "      <td>10</td>\n",
       "      <td>3.000000</td>\n",
       "      <td>0.37</td>\n",
       "    </tr>\n",
       "    <tr>\n",
       "      <th>26</th>\n",
       "      <td>Florida</td>\n",
       "      <td>11</td>\n",
       "      <td>14.142857</td>\n",
       "      <td>0.39</td>\n",
       "    </tr>\n",
       "  </tbody>\n",
       "</table>\n",
       "</div>"
      ],
      "text/plain": [
       "      State  Weeknum   COVID-19  Insured Unemployment Rate\n",
       "25  Florida       10   3.000000                       0.37\n",
       "26  Florida       11  14.142857                       0.39"
      ]
     },
     "execution_count": 80,
     "metadata": {},
     "output_type": "execute_result"
    }
   ],
   "source": [
    "ui_scat_fl = ui_cv_scat_clean[ui_cv_scat_clean[\"State\"] == \"Florida\"]\n",
    "ui_scat_fl.head(2)"
   ]
  },
  {
   "cell_type": "code",
   "execution_count": 81,
   "metadata": {},
   "outputs": [
    {
     "name": "stdout",
     "output_type": "stream",
     "text": [
      "R Val is 0.013558957894785322\n"
     ]
    },
    {
     "data": {
      "image/png": "[encoded data removed]",
      "text/plain": [
       "<Figure size 432x288 with 1 Axes>"
      ]
     },
     "metadata": {
      "needs_background": "light"
     },
     "output_type": "display_data"
    }
   ],
   "source": [
    "# plotting and formatting scatter\n",
    "plt.scatter(ui_scat_fl['Insured Unemployment Rate'], ui_scat_fl['COVID-19'],marker=\"o\", facecolors=\"tab:blue\", edgecolors=\"dimgray\")\n",
    "\n",
    "#inserting chart labels\n",
    "plt.xlabel(\"State Unemployment %\")\n",
    "plt.ylabel(\"COVID-19 Positive Increases\")\n",
    "plt.title(\"Florida Unemployment % vs COVID-19 Positive Increases\")\n",
    "\n",
    "#defining values\n",
    "x_values = ui_scat_fl['Insured Unemployment Rate']\n",
    "y_values = ui_scat_fl['COVID-19']\n",
    "\n",
    "#defining stats\n",
    "(slope, intercept, rvalue, pvalue, stderr) = linregress(x_values, y_values)\n",
    "\n",
    "#Defining regression\n",
    "regress_values = x_values * slope + intercept\n",
    "line_eq = \"y = \" + str(round(slope,2)) + \"x + \" + str(round(intercept,2))\n",
    "\n",
    "#Plotting line regress\n",
    "plt.plot(x_values,regress_values,\"r-\")\n",
    "\n",
    "#Printing R Value\n",
    "print(f\"R Val is {rvalue**2}\")\n",
    "\n",
    "#Plotting line equation on the graph\n",
    "plt.annotate(line_eq,(12, 10000),fontsize=15,color=\"red\") \n",
    "plt.savefig('../output_data/UI_CV_Scat/FL_UI_vs_CV_scat.png')"
   ]
  },
  {
   "cell_type": "code",
   "execution_count": 82,
   "metadata": {},
   "outputs": [
    {
     "data": {
      "text/html": [
       "<div>\n",
       "<style scoped>\n",
       "    .dataframe tbody tr th:only-of-type {\n",
       "        vertical-align: middle;\n",
       "    }\n",
       "\n",
       "    .dataframe tbody tr th {\n",
       "        vertical-align: top;\n",
       "    }\n",
       "\n",
       "    .dataframe thead th {\n",
       "        text-align: right;\n",
       "    }\n",
       "</style>\n",
       "<table border=\"1\" class=\"dataframe\">\n",
       "  <thead>\n",
       "    <tr style=\"text-align: right;\">\n",
       "      <th></th>\n",
       "      <th>State</th>\n",
       "      <th>Weeknum</th>\n",
       "      <th>COVID-19</th>\n",
       "      <th>Insured Unemployment Rate</th>\n",
       "    </tr>\n",
       "  </thead>\n",
       "  <tbody>\n",
       "    <tr>\n",
       "      <th>50</th>\n",
       "      <td>Georgia</td>\n",
       "      <td>10</td>\n",
       "      <td>1.000000</td>\n",
       "      <td>0.58</td>\n",
       "    </tr>\n",
       "    <tr>\n",
       "      <th>51</th>\n",
       "      <td>Georgia</td>\n",
       "      <td>11</td>\n",
       "      <td>13.142857</td>\n",
       "      <td>0.63</td>\n",
       "    </tr>\n",
       "  </tbody>\n",
       "</table>\n",
       "</div>"
      ],
      "text/plain": [
       "      State  Weeknum   COVID-19  Insured Unemployment Rate\n",
       "50  Georgia       10   1.000000                       0.58\n",
       "51  Georgia       11  13.142857                       0.63"
      ]
     },
     "execution_count": 82,
     "metadata": {},
     "output_type": "execute_result"
    }
   ],
   "source": [
    "ui_scat_ga = ui_cv_scat_clean[ui_cv_scat_clean[\"State\"] == \"Georgia\"]\n",
    "ui_scat_ga.head(2)"
   ]
  },
  {
   "cell_type": "code",
   "execution_count": 83,
   "metadata": {},
   "outputs": [
    {
     "name": "stdout",
     "output_type": "stream",
     "text": [
      "R Val is 0.10417330917941174\n"
     ]
    },
    {
     "data": {
      "image/png": "[encoded data removed]",
      "text/plain": [
       "<Figure size 432x288 with 1 Axes>"
      ]
     },
     "metadata": {
      "needs_background": "light"
     },
     "output_type": "display_data"
    }
   ],
   "source": [
    "# plotting and formatting scatter\n",
    "plt.scatter(ui_scat_ga['Insured Unemployment Rate'], ui_scat_ga['COVID-19'],marker=\"o\", facecolors=\"tab:blue\", edgecolors=\"dimgray\")\n",
    "\n",
    "#inserting chart labels\n",
    "plt.xlabel(\"State Unemployment %\")\n",
    "plt.ylabel(\"COVID-19 Positive Increases\")\n",
    "plt.title(\"Georgia Unemployment % vs COVID-19 Positive Increases\")\n",
    "\n",
    "#defining values\n",
    "x_values = ui_scat_ga['Insured Unemployment Rate']\n",
    "y_values = ui_scat_ga['COVID-19']\n",
    "\n",
    "#defining stats\n",
    "(slope, intercept, rvalue, pvalue, stderr) = linregress(x_values, y_values)\n",
    "\n",
    "#Defining regression\n",
    "regress_values = x_values * slope + intercept\n",
    "line_eq = \"y = \" + str(round(slope,2)) + \"x + \" + str(round(intercept,2))\n",
    "\n",
    "#Plotting line regress\n",
    "plt.plot(x_values,regress_values,\"r-\")\n",
    "\n",
    "#Printing R Value\n",
    "print(f\"R Val is {rvalue**2}\")\n",
    "\n",
    "#Plotting line equation on the graph\n",
    "plt.annotate(line_eq,(1, 3000),fontsize=15,color=\"red\") \n",
    "plt.savefig('../output_data/UI_CV_Scat/GA_UI_vs_CV_scat.png')"
   ]
  },
  {
   "cell_type": "code",
   "execution_count": 84,
   "metadata": {},
   "outputs": [
    {
     "data": {
      "text/html": [
       "<div>\n",
       "<style scoped>\n",
       "    .dataframe tbody tr th:only-of-type {\n",
       "        vertical-align: middle;\n",
       "    }\n",
       "\n",
       "    .dataframe tbody tr th {\n",
       "        vertical-align: top;\n",
       "    }\n",
       "\n",
       "    .dataframe thead th {\n",
       "        text-align: right;\n",
       "    }\n",
       "</style>\n",
       "<table border=\"1\" class=\"dataframe\">\n",
       "  <thead>\n",
       "    <tr style=\"text-align: right;\">\n",
       "      <th></th>\n",
       "      <th>State</th>\n",
       "      <th>Weeknum</th>\n",
       "      <th>COVID-19</th>\n",
       "      <th>Insured Unemployment Rate</th>\n",
       "    </tr>\n",
       "  </thead>\n",
       "  <tbody>\n",
       "    <tr>\n",
       "      <th>75</th>\n",
       "      <td>Maryland</td>\n",
       "      <td>10</td>\n",
       "      <td>0.75</td>\n",
       "      <td>1.06</td>\n",
       "    </tr>\n",
       "    <tr>\n",
       "      <th>76</th>\n",
       "      <td>Maryland</td>\n",
       "      <td>11</td>\n",
       "      <td>4.00</td>\n",
       "      <td>1.04</td>\n",
       "    </tr>\n",
       "  </tbody>\n",
       "</table>\n",
       "</div>"
      ],
      "text/plain": [
       "       State  Weeknum  COVID-19  Insured Unemployment Rate\n",
       "75  Maryland       10      0.75                       1.06\n",
       "76  Maryland       11      4.00                       1.04"
      ]
     },
     "execution_count": 84,
     "metadata": {},
     "output_type": "execute_result"
    }
   ],
   "source": [
    "ui_scat_md = ui_cv_scat_clean[ui_cv_scat_clean[\"State\"] == \"Maryland\"]\n",
    "ui_scat_md.head(2)"
   ]
  },
  {
   "cell_type": "code",
   "execution_count": 85,
   "metadata": {},
   "outputs": [
    {
     "name": "stdout",
     "output_type": "stream",
     "text": [
      "R Val is 0.62987345459035\n"
     ]
    },
    {
     "data": {
      "image/png": "[encoded data removed]",
      "text/plain": [
       "<Figure size 432x288 with 1 Axes>"
      ]
     },
     "metadata": {
      "needs_background": "light"
     },
     "output_type": "display_data"
    }
   ],
   "source": [
    "#plotting and formatting scatter\n",
    "plt.scatter(ui_scat_md['Insured Unemployment Rate'], ui_scat_md['COVID-19'],marker=\"o\", facecolors=\"tab:blue\", edgecolors=\"dimgray\")\n",
    "\n",
    "#inserting chart labels\n",
    "plt.xlabel(\"State Unemployment %\")\n",
    "plt.ylabel(\"COVID-19 Positive Increases\")\n",
    "plt.title(\"Maryland Unemployment % vs COVID-19 Positive Increases\")\n",
    "\n",
    "#defining values\n",
    "x_values = ui_scat_md['Insured Unemployment Rate']\n",
    "y_values = ui_scat_md['COVID-19']\n",
    "\n",
    "#defining stats\n",
    "(slope, intercept, rvalue, pvalue, stderr) = linregress(x_values, y_values)\n",
    "\n",
    "#Defining regression\n",
    "regress_values = x_values * slope + intercept\n",
    "line_eq = \"y = \" + str(round(slope,2)) + \"x + \" + str(round(intercept,2))\n",
    "\n",
    "#Plotting line regress\n",
    "plt.plot(x_values,regress_values,\"r-\")\n",
    "\n",
    "#Printing R Value\n",
    "print(f\"R Val is {rvalue**2}\")\n",
    "\n",
    "#Plotting line equation on the graph\n",
    "plt.annotate(line_eq,(2, 1000),fontsize=15,color=\"red\") \n",
    "plt.savefig('../output_data/UI_CV_Scat/MD_UI_vs_CV_scat.png')"
   ]
  },
  {
   "cell_type": "code",
   "execution_count": 86,
   "metadata": {},
   "outputs": [
    {
     "data": {
      "text/html": [
       "<div>\n",
       "<style scoped>\n",
       "    .dataframe tbody tr th:only-of-type {\n",
       "        vertical-align: middle;\n",
       "    }\n",
       "\n",
       "    .dataframe tbody tr th {\n",
       "        vertical-align: top;\n",
       "    }\n",
       "\n",
       "    .dataframe thead th {\n",
       "        text-align: right;\n",
       "    }\n",
       "</style>\n",
       "<table border=\"1\" class=\"dataframe\">\n",
       "  <thead>\n",
       "    <tr style=\"text-align: right;\">\n",
       "      <th></th>\n",
       "      <th>State</th>\n",
       "      <th>Weeknum</th>\n",
       "      <th>COVID-19</th>\n",
       "      <th>Insured Unemployment Rate</th>\n",
       "    </tr>\n",
       "  </thead>\n",
       "  <tbody>\n",
       "    <tr>\n",
       "      <th>100</th>\n",
       "      <td>South Dakota</td>\n",
       "      <td>10</td>\n",
       "      <td>0.000000</td>\n",
       "      <td>0.69</td>\n",
       "    </tr>\n",
       "    <tr>\n",
       "      <th>101</th>\n",
       "      <td>South Dakota</td>\n",
       "      <td>11</td>\n",
       "      <td>1.285714</td>\n",
       "      <td>0.64</td>\n",
       "    </tr>\n",
       "  </tbody>\n",
       "</table>\n",
       "</div>"
      ],
      "text/plain": [
       "            State  Weeknum  COVID-19  Insured Unemployment Rate\n",
       "100  South Dakota       10  0.000000                       0.69\n",
       "101  South Dakota       11  1.285714                       0.64"
      ]
     },
     "execution_count": 86,
     "metadata": {},
     "output_type": "execute_result"
    }
   ],
   "source": [
    "ui_scat_sd = ui_cv_scat_clean[ui_cv_scat_clean[\"State\"] == \"South Dakota\"]\n",
    "ui_scat_sd.head(2)"
   ]
  },
  {
   "cell_type": "code",
   "execution_count": 87,
   "metadata": {},
   "outputs": [
    {
     "name": "stdout",
     "output_type": "stream",
     "text": [
      "R Val is 0.7404008022828966\n"
     ]
    },
    {
     "data": {
      "image/png": "[encoded data removed]",
      "text/plain": [
       "<Figure size 432x288 with 1 Axes>"
      ]
     },
     "metadata": {
      "needs_background": "light"
     },
     "output_type": "display_data"
    }
   ],
   "source": [
    "# plotting and formatting scatter\n",
    "plt.scatter(ui_scat_sd['Insured Unemployment Rate'], ui_scat_sd['COVID-19'],marker=\"o\", facecolors=\"tab:blue\", edgecolors=\"dimgray\")\n",
    "\n",
    "#inserting chart labels\n",
    "plt.xlabel(\"State Unemployment %\")\n",
    "plt.ylabel(\"COVID-19 Positive Increases\")\n",
    "plt.title(\"South Dakota Unemployment % vs COVID-19 Positive Increases\")\n",
    "\n",
    "#defining values\n",
    "x_values = ui_scat_sd['Insured Unemployment Rate']\n",
    "y_values = ui_scat_sd['COVID-19']\n",
    "\n",
    "#defining stats\n",
    "(slope, intercept, rvalue, pvalue, stderr) = linregress(x_values, y_values)\n",
    "\n",
    "#Defining regression\n",
    "regress_values = x_values * slope + intercept\n",
    "line_eq = \"y = \" + str(round(slope,2)) + \"x + \" + str(round(intercept,2))\n",
    "\n",
    "#Plotting line regress\n",
    "plt.plot(x_values,regress_values,\"r-\")\n",
    "\n",
    "#Printing R Value\n",
    "print(f\"R Val is {rvalue**2}\")\n",
    "\n",
    "#Plotting line equation on the graph\n",
    "plt.annotate(line_eq,(1, 120),fontsize=15,color=\"red\") \n",
    "plt.savefig('../output_data/UI_CV_Scat/SD_UI_vs_CV_scat.png')"
   ]
  },
  {
   "cell_type": "code",
   "execution_count": 88,
   "metadata": {},
   "outputs": [
    {
     "data": {
      "text/html": [
       "<div>\n",
       "<style scoped>\n",
       "    .dataframe tbody tr th:only-of-type {\n",
       "        vertical-align: middle;\n",
       "    }\n",
       "\n",
       "    .dataframe tbody tr th {\n",
       "        vertical-align: top;\n",
       "    }\n",
       "\n",
       "    .dataframe thead th {\n",
       "        text-align: right;\n",
       "    }\n",
       "</style>\n",
       "<table border=\"1\" class=\"dataframe\">\n",
       "  <thead>\n",
       "    <tr style=\"text-align: right;\">\n",
       "      <th></th>\n",
       "      <th>State</th>\n",
       "      <th>Weeknum</th>\n",
       "      <th>COVID-19</th>\n",
       "      <th>Insured Unemployment Rate</th>\n",
       "    </tr>\n",
       "  </thead>\n",
       "  <tbody>\n",
       "    <tr>\n",
       "      <th>125</th>\n",
       "      <td>Texas</td>\n",
       "      <td>10</td>\n",
       "      <td>1.400000</td>\n",
       "      <td>1.05</td>\n",
       "    </tr>\n",
       "    <tr>\n",
       "      <th>126</th>\n",
       "      <td>Texas</td>\n",
       "      <td>11</td>\n",
       "      <td>6.857143</td>\n",
       "      <td>1.03</td>\n",
       "    </tr>\n",
       "  </tbody>\n",
       "</table>\n",
       "</div>"
      ],
      "text/plain": [
       "     State  Weeknum  COVID-19  Insured Unemployment Rate\n",
       "125  Texas       10  1.400000                       1.05\n",
       "126  Texas       11  6.857143                       1.03"
      ]
     },
     "execution_count": 88,
     "metadata": {},
     "output_type": "execute_result"
    }
   ],
   "source": [
    "ui_scat_tx = ui_cv_scat_clean[ui_cv_scat_clean[\"State\"] == \"Texas\"]\n",
    "ui_scat_tx.head(2)"
   ]
  },
  {
   "cell_type": "code",
   "execution_count": 89,
   "metadata": {},
   "outputs": [
    {
     "name": "stdout",
     "output_type": "stream",
     "text": [
      "R Val is 0.2539567916715078\n"
     ]
    },
    {
     "data": {
      "image/png": "[encoded data removed]",
      "text/plain": [
       "<Figure size 432x288 with 1 Axes>"
      ]
     },
     "metadata": {
      "needs_background": "light"
     },
     "output_type": "display_data"
    }
   ],
   "source": [
    "# plotting and formatting scatter\n",
    "plt.scatter(ui_scat_tx['Insured Unemployment Rate'], ui_scat_tx['COVID-19'],marker=\"o\", facecolors=\"tab:blue\", edgecolors=\"dimgray\")\n",
    "\n",
    "#inserting chart labels\n",
    "plt.xlabel(\"State Unemployment %\")\n",
    "plt.ylabel(\"COVID-19 Positive Increases\")\n",
    "plt.title(\"Texas Unemployment % vs COVID-19 Positive Increases\")\n",
    "\n",
    "#defining values\n",
    "x_values = ui_scat_tx['Insured Unemployment Rate']\n",
    "y_values = ui_scat_tx['COVID-19']\n",
    "\n",
    "#defining stats\n",
    "(slope, intercept, rvalue, pvalue, stderr) = linregress(x_values, y_values)\n",
    "\n",
    "#Defining regression\n",
    "regress_values = x_values * slope + intercept\n",
    "line_eq = \"y = \" + str(round(slope,2)) + \"x + \" + str(round(intercept,2))\n",
    "\n",
    "#Plotting line regress\n",
    "plt.plot(x_values,regress_values,\"r-\")\n",
    "\n",
    "#Printing R Value\n",
    "print(f\"R Val is {rvalue**2}\")\n",
    "\n",
    "#Plotting line equation on the graph\n",
    "plt.annotate(line_eq,(1, 3000),fontsize=15,color=\"red\") \n",
    "plt.savefig('../output_data/UI_CV_Scat/TX_UI_vs_CV_scat.png')"
   ]
  }
 ],
 "metadata": {
  "kernelspec": {
   "display_name": "Python [conda env:pythondata] *",
   "language": "python",
   "name": "conda-env-pythondata-py"
  },
  "language_info": {
   "codemirror_mode": {
    "name": "ipython",
    "version": 3
   },
   "file_extension": ".py",
   "mimetype": "text/x-python",
   "name": "python",
   "nbconvert_exporter": "python",
   "pygments_lexer": "ipython3",
   "version": "3.8.5"
  }
 },
 "nbformat": 4,
 "nbformat_minor": 4
}
