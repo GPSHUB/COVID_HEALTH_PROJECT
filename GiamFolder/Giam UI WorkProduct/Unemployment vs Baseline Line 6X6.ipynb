{
 "cells": [
  {
   "cell_type": "code",
   "execution_count": 5,
   "metadata": {},
   "outputs": [
    {
     "data": {
      "text/html": [
       "<div>\n",
       "<style scoped>\n",
       "    .dataframe tbody tr th:only-of-type {\n",
       "        vertical-align: middle;\n",
       "    }\n",
       "\n",
       "    .dataframe tbody tr th {\n",
       "        vertical-align: top;\n",
       "    }\n",
       "\n",
       "    .dataframe thead th {\n",
       "        text-align: right;\n",
       "    }\n",
       "</style>\n",
       "<table border=\"1\" class=\"dataframe\">\n",
       "  <thead>\n",
       "    <tr style=\"text-align: right;\">\n",
       "      <th></th>\n",
       "      <th>State</th>\n",
       "      <th>month</th>\n",
       "      <th>Insured Unemployment Rate</th>\n",
       "      <th>Period</th>\n",
       "    </tr>\n",
       "  </thead>\n",
       "  <tbody>\n",
       "    <tr>\n",
       "      <th>0</th>\n",
       "      <td>California</td>\n",
       "      <td>1</td>\n",
       "      <td>2.514545</td>\n",
       "      <td>2015-2019 Avg</td>\n",
       "    </tr>\n",
       "    <tr>\n",
       "      <th>1</th>\n",
       "      <td>California</td>\n",
       "      <td>2</td>\n",
       "      <td>2.522500</td>\n",
       "      <td>2015-2019 Avg</td>\n",
       "    </tr>\n",
       "    <tr>\n",
       "      <th>2</th>\n",
       "      <td>California</td>\n",
       "      <td>3</td>\n",
       "      <td>2.479545</td>\n",
       "      <td>2015-2019 Avg</td>\n",
       "    </tr>\n",
       "    <tr>\n",
       "      <th>3</th>\n",
       "      <td>California</td>\n",
       "      <td>4</td>\n",
       "      <td>2.309091</td>\n",
       "      <td>2015-2019 Avg</td>\n",
       "    </tr>\n",
       "    <tr>\n",
       "      <th>4</th>\n",
       "      <td>California</td>\n",
       "      <td>5</td>\n",
       "      <td>2.106667</td>\n",
       "      <td>2015-2019 Avg</td>\n",
       "    </tr>\n",
       "    <tr>\n",
       "      <th>...</th>\n",
       "      <td>...</td>\n",
       "      <td>...</td>\n",
       "      <td>...</td>\n",
       "      <td>...</td>\n",
       "    </tr>\n",
       "    <tr>\n",
       "      <th>115</th>\n",
       "      <td>Texas</td>\n",
       "      <td>4</td>\n",
       "      <td>7.395000</td>\n",
       "      <td>2020</td>\n",
       "    </tr>\n",
       "    <tr>\n",
       "      <th>116</th>\n",
       "      <td>Texas</td>\n",
       "      <td>5</td>\n",
       "      <td>10.356000</td>\n",
       "      <td>2020</td>\n",
       "    </tr>\n",
       "    <tr>\n",
       "      <th>117</th>\n",
       "      <td>Texas</td>\n",
       "      <td>6</td>\n",
       "      <td>10.277500</td>\n",
       "      <td>2020</td>\n",
       "    </tr>\n",
       "    <tr>\n",
       "      <th>118</th>\n",
       "      <td>Texas</td>\n",
       "      <td>7</td>\n",
       "      <td>10.360000</td>\n",
       "      <td>2020</td>\n",
       "    </tr>\n",
       "    <tr>\n",
       "      <th>119</th>\n",
       "      <td>Texas</td>\n",
       "      <td>8</td>\n",
       "      <td>9.870000</td>\n",
       "      <td>2020</td>\n",
       "    </tr>\n",
       "  </tbody>\n",
       "</table>\n",
       "<p>120 rows × 4 columns</p>\n",
       "</div>"
      ],
      "text/plain": [
       "          State  month  Insured Unemployment Rate         Period\n",
       "0    California      1                   2.514545  2015-2019 Avg\n",
       "1    California      2                   2.522500  2015-2019 Avg\n",
       "2    California      3                   2.479545  2015-2019 Avg\n",
       "3    California      4                   2.309091  2015-2019 Avg\n",
       "4    California      5                   2.106667  2015-2019 Avg\n",
       "..          ...    ...                        ...            ...\n",
       "115       Texas      4                   7.395000           2020\n",
       "116       Texas      5                  10.356000           2020\n",
       "117       Texas      6                  10.277500           2020\n",
       "118       Texas      7                  10.360000           2020\n",
       "119       Texas      8                   9.870000           2020\n",
       "\n",
       "[120 rows x 4 columns]"
      ]
     },
     "execution_count": 5,
     "metadata": {},
     "output_type": "execute_result"
    }
   ],
   "source": [
    "# Dependencies and Setup\n",
    "import matplotlib.pyplot as plt\n",
    "import pandas as pd\n",
    "import numpy as np\n",
    "import requests\n",
    "from scipy.stats import linregress\n",
    "from pprint import pprint\n",
    "import json\n",
    "from datetime import datetime \n",
    "\n",
    "# Pull in UI DF\n",
    "ui_combo = pd.read_csv(\"../Resources/ui_combo.csv\")\n",
    "ui_combo"
   ]
  },
  {
   "cell_type": "code",
   "execution_count": 6,
   "metadata": {
    "scrolled": true
   },
   "outputs": [
    {
     "data": {
      "text/html": [
       "<div>\n",
       "<style scoped>\n",
       "    .dataframe tbody tr th:only-of-type {\n",
       "        vertical-align: middle;\n",
       "    }\n",
       "\n",
       "    .dataframe tbody tr th {\n",
       "        vertical-align: top;\n",
       "    }\n",
       "\n",
       "    .dataframe thead th {\n",
       "        text-align: right;\n",
       "    }\n",
       "</style>\n",
       "<table border=\"1\" class=\"dataframe\">\n",
       "  <thead>\n",
       "    <tr style=\"text-align: right;\">\n",
       "      <th></th>\n",
       "      <th>State</th>\n",
       "      <th>month</th>\n",
       "      <th>Insured Unemployment Rate</th>\n",
       "      <th>Period</th>\n",
       "    </tr>\n",
       "  </thead>\n",
       "  <tbody>\n",
       "    <tr>\n",
       "      <th>0</th>\n",
       "      <td>California</td>\n",
       "      <td>1</td>\n",
       "      <td>2.514545</td>\n",
       "      <td>2015-2019 Avg</td>\n",
       "    </tr>\n",
       "    <tr>\n",
       "      <th>1</th>\n",
       "      <td>California</td>\n",
       "      <td>2</td>\n",
       "      <td>2.522500</td>\n",
       "      <td>2015-2019 Avg</td>\n",
       "    </tr>\n",
       "    <tr>\n",
       "      <th>2</th>\n",
       "      <td>California</td>\n",
       "      <td>3</td>\n",
       "      <td>2.479545</td>\n",
       "      <td>2015-2019 Avg</td>\n",
       "    </tr>\n",
       "    <tr>\n",
       "      <th>3</th>\n",
       "      <td>California</td>\n",
       "      <td>4</td>\n",
       "      <td>2.309091</td>\n",
       "      <td>2015-2019 Avg</td>\n",
       "    </tr>\n",
       "    <tr>\n",
       "      <th>4</th>\n",
       "      <td>California</td>\n",
       "      <td>5</td>\n",
       "      <td>2.106667</td>\n",
       "      <td>2015-2019 Avg</td>\n",
       "    </tr>\n",
       "    <tr>\n",
       "      <th>5</th>\n",
       "      <td>California</td>\n",
       "      <td>6</td>\n",
       "      <td>2.006818</td>\n",
       "      <td>2015-2019 Avg</td>\n",
       "    </tr>\n",
       "    <tr>\n",
       "      <th>6</th>\n",
       "      <td>California</td>\n",
       "      <td>7</td>\n",
       "      <td>2.050909</td>\n",
       "      <td>2015-2019 Avg</td>\n",
       "    </tr>\n",
       "    <tr>\n",
       "      <th>7</th>\n",
       "      <td>California</td>\n",
       "      <td>8</td>\n",
       "      <td>2.015909</td>\n",
       "      <td>2015-2019 Avg</td>\n",
       "    </tr>\n",
       "    <tr>\n",
       "      <th>8</th>\n",
       "      <td>California</td>\n",
       "      <td>9</td>\n",
       "      <td>1.846818</td>\n",
       "      <td>2015-2019 Avg</td>\n",
       "    </tr>\n",
       "    <tr>\n",
       "      <th>9</th>\n",
       "      <td>California</td>\n",
       "      <td>10</td>\n",
       "      <td>1.815455</td>\n",
       "      <td>2015-2019 Avg</td>\n",
       "    </tr>\n",
       "    <tr>\n",
       "      <th>10</th>\n",
       "      <td>California</td>\n",
       "      <td>11</td>\n",
       "      <td>1.883333</td>\n",
       "      <td>2015-2019 Avg</td>\n",
       "    </tr>\n",
       "    <tr>\n",
       "      <th>11</th>\n",
       "      <td>California</td>\n",
       "      <td>12</td>\n",
       "      <td>2.143333</td>\n",
       "      <td>2015-2019 Avg</td>\n",
       "    </tr>\n",
       "  </tbody>\n",
       "</table>\n",
       "</div>"
      ],
      "text/plain": [
       "         State  month  Insured Unemployment Rate         Period\n",
       "0   California      1                   2.514545  2015-2019 Avg\n",
       "1   California      2                   2.522500  2015-2019 Avg\n",
       "2   California      3                   2.479545  2015-2019 Avg\n",
       "3   California      4                   2.309091  2015-2019 Avg\n",
       "4   California      5                   2.106667  2015-2019 Avg\n",
       "5   California      6                   2.006818  2015-2019 Avg\n",
       "6   California      7                   2.050909  2015-2019 Avg\n",
       "7   California      8                   2.015909  2015-2019 Avg\n",
       "8   California      9                   1.846818  2015-2019 Avg\n",
       "9   California     10                   1.815455  2015-2019 Avg\n",
       "10  California     11                   1.883333  2015-2019 Avg\n",
       "11  California     12                   2.143333  2015-2019 Avg"
      ]
     },
     "execution_count": 6,
     "metadata": {},
     "output_type": "execute_result"
    }
   ],
   "source": [
    "cal = ui_combo[ui_combo[\"State\"] == 'California']\n",
    "cal_base = ui_combo[(ui_combo[\"State\"]==\"California\")&(ui_combo[\"State\"]==\"California\")&(ui_combo[\"Period\"]==\"2015-2019 Avg\")]\n",
    "cal_base"
   ]
  },
  {
   "cell_type": "code",
   "execution_count": 7,
   "metadata": {},
   "outputs": [
    {
     "data": {
      "text/html": [
       "<div>\n",
       "<style scoped>\n",
       "    .dataframe tbody tr th:only-of-type {\n",
       "        vertical-align: middle;\n",
       "    }\n",
       "\n",
       "    .dataframe tbody tr th {\n",
       "        vertical-align: top;\n",
       "    }\n",
       "\n",
       "    .dataframe thead th {\n",
       "        text-align: right;\n",
       "    }\n",
       "</style>\n",
       "<table border=\"1\" class=\"dataframe\">\n",
       "  <thead>\n",
       "    <tr style=\"text-align: right;\">\n",
       "      <th></th>\n",
       "      <th>State</th>\n",
       "      <th>month</th>\n",
       "      <th>Insured Unemployment Rate</th>\n",
       "      <th>Period</th>\n",
       "    </tr>\n",
       "  </thead>\n",
       "  <tbody>\n",
       "    <tr>\n",
       "      <th>72</th>\n",
       "      <td>California</td>\n",
       "      <td>1</td>\n",
       "      <td>2.1100</td>\n",
       "      <td>2020</td>\n",
       "    </tr>\n",
       "    <tr>\n",
       "      <th>73</th>\n",
       "      <td>California</td>\n",
       "      <td>2</td>\n",
       "      <td>2.1200</td>\n",
       "      <td>2020</td>\n",
       "    </tr>\n",
       "    <tr>\n",
       "      <th>74</th>\n",
       "      <td>California</td>\n",
       "      <td>3</td>\n",
       "      <td>3.2600</td>\n",
       "      <td>2020</td>\n",
       "    </tr>\n",
       "    <tr>\n",
       "      <th>75</th>\n",
       "      <td>California</td>\n",
       "      <td>4</td>\n",
       "      <td>15.2175</td>\n",
       "      <td>2020</td>\n",
       "    </tr>\n",
       "    <tr>\n",
       "      <th>76</th>\n",
       "      <td>California</td>\n",
       "      <td>5</td>\n",
       "      <td>16.3140</td>\n",
       "      <td>2020</td>\n",
       "    </tr>\n",
       "    <tr>\n",
       "      <th>77</th>\n",
       "      <td>California</td>\n",
       "      <td>6</td>\n",
       "      <td>16.5050</td>\n",
       "      <td>2020</td>\n",
       "    </tr>\n",
       "    <tr>\n",
       "      <th>78</th>\n",
       "      <td>California</td>\n",
       "      <td>7</td>\n",
       "      <td>16.6425</td>\n",
       "      <td>2020</td>\n",
       "    </tr>\n",
       "    <tr>\n",
       "      <th>79</th>\n",
       "      <td>California</td>\n",
       "      <td>8</td>\n",
       "      <td>17.0200</td>\n",
       "      <td>2020</td>\n",
       "    </tr>\n",
       "  </tbody>\n",
       "</table>\n",
       "</div>"
      ],
      "text/plain": [
       "         State  month  Insured Unemployment Rate Period\n",
       "72  California      1                     2.1100   2020\n",
       "73  California      2                     2.1200   2020\n",
       "74  California      3                     3.2600   2020\n",
       "75  California      4                    15.2175   2020\n",
       "76  California      5                    16.3140   2020\n",
       "77  California      6                    16.5050   2020\n",
       "78  California      7                    16.6425   2020\n",
       "79  California      8                    17.0200   2020"
      ]
     },
     "execution_count": 7,
     "metadata": {},
     "output_type": "execute_result"
    }
   ],
   "source": [
    "cal = ui_combo[ui_combo[\"State\"] == 'California']\n",
    "cal_2020 = ui_combo[(ui_combo[\"State\"]==\"California\")&(ui_combo[\"State\"]==\"California\")&(ui_combo[\"Period\"]==\"2020\")]\n",
    "cal_2020"
   ]
  },
  {
   "cell_type": "code",
   "execution_count": 19,
   "metadata": {},
   "outputs": [
    {
     "name": "stdout",
     "output_type": "stream",
     "text": [
      "R Val is 0.780049056327115\n"
     ]
    },
    {
     "data": {
      "image/png": "[encoded data removed]",
      "text/plain": [
       "<Figure size 432x288 with 1 Axes>"
      ]
     },
     "metadata": {
      "needs_background": "light"
     },
     "output_type": "display_data"
    }
   ],
   "source": [
    "# Create the X and Y axis list\n",
    "percentage = cal_base[\"Insured Unemployment Rate\"]\n",
    "month = cal_base[\"month\"]\n",
    "\n",
    "# Plot the charts\n",
    "unemployment = plt.plot(month, percentage, color=\"blue\", label=\"Insured Unemployment Rate\")\n",
    "\n",
    "# Add labels to X and Y axes and titles \n",
    "plt.title(\"California 5 year Baseline vs 2020\")\n",
    "plt.xlabel(\"Months\")\n",
    "plt.ylabel(\"Unemployment (%)\")\n",
    "\n",
    "x_values = cal_2020[\"month\"]\n",
    "y_values = cal_2020[\"Insured Unemployment Rate\"]\n",
    "\n",
    "(slope, intercept, rvalue, pvalue, stderr) = linregress(x_values, y_values)\n",
    "\n",
    "regress_values = x_values * slope + intercept\n",
    "\n",
    "line_eq = \"y =\" + str(round(slope,2)) + \"x +\" + str(round(intercept,2))\n",
    "\n",
    "plt.annotate(line_eq, (7.5, 14), fontsize = 15, color=\"r\")\n",
    "\n",
    "plt.plot(x_values, y_values, color=\"orange\")\n",
    "\n",
    "print(f\"R Val is {rvalue**2}\")\n",
    "\n",
    "plt.show()"
   ]
  },
  {
   "cell_type": "code",
   "execution_count": 17,
   "metadata": {},
   "outputs": [
    {
     "name": "stdout",
     "output_type": "stream",
     "text": [
      "R Val is 0.5518178065171471\n"
     ]
    },
    {
     "data": {
      "image/png": "[encoded data removed]",
      "text/plain": [
       "<Figure size 432x288 with 1 Axes>"
      ]
     },
     "metadata": {
      "needs_background": "light"
     },
     "output_type": "display_data"
    }
   ],
   "source": [
    "flo = ui_combo[ui_combo[\"State\"] == 'Florida']\n",
    "flo_base = ui_combo[(ui_combo[\"State\"]==\"Florida\")&(ui_combo[\"State\"]==\"Florida\")&(ui_combo[\"Period\"]==\"2015-2019 Avg\")]\n",
    "# flo_base\n",
    "\n",
    "flo = ui_combo[ui_combo[\"State\"] == 'Florida']\n",
    "flo_2020 = ui_combo[(ui_combo[\"State\"]==\"Florida\")&(ui_combo[\"State\"]==\"Florida\")&(ui_combo[\"Period\"]==\"2020\")]\n",
    "# flo_2020\n",
    "\n",
    "# Create the X and Y axis list\n",
    "percentage = flo_base[\"Insured Unemployment Rate\"]\n",
    "month = flo_base[\"month\"]\n",
    "\n",
    "# Plot the charts\n",
    "unemployment = plt.plot(month, percentage, color=\"blue\", label=\"Insured Unemployment Rate\")\n",
    "\n",
    "# Add labels to X and Y axes and titles \n",
    "plt.title(\"Florida 5 year Baseline vs 2020\")\n",
    "plt.xlabel(\"Months\")\n",
    "plt.ylabel(\"Unemployment (%)\")\n",
    "\n",
    "x_values = flo_2020[\"month\"]\n",
    "y_values = flo_2020[\"Insured Unemployment Rate\"]\n",
    "\n",
    "(slope, intercept, rvalue, pvalue, stderr) = linregress(x_values, y_values)\n",
    "\n",
    "regress_values = x_values * slope + intercept\n",
    "\n",
    "line_eq = \"y =\" + str(round(slope,2)) + \"x +\" + str(round(intercept,2))\n",
    "\n",
    "plt.annotate(line_eq, (8, 10), fontsize = 15, color=\"r\")\n",
    "\n",
    "plt.plot(x_values, y_values, color=\"orange\")\n",
    "\n",
    "print(f\"R Val is {rvalue**2}\")\n",
    "\n",
    "plt.show()"
   ]
  },
  {
   "cell_type": "code",
   "execution_count": 21,
   "metadata": {},
   "outputs": [
    {
     "name": "stdout",
     "output_type": "stream",
     "text": [
      "R Val is 0.6134916567451595\n"
     ]
    },
    {
     "data": {
      "image/png": "[encoded data removed]",
      "text/plain": [
       "<Figure size 432x288 with 1 Axes>"
      ]
     },
     "metadata": {
      "needs_background": "light"
     },
     "output_type": "display_data"
    }
   ],
   "source": [
    "ga = ui_combo[ui_combo[\"State\"] == 'Georgia']\n",
    "ga_base = ui_combo[(ui_combo[\"State\"]==\"Georgia\")&(ui_combo[\"State\"]==\"Georgia\")&(ui_combo[\"Period\"]==\"2015-2019 Avg\")]\n",
    "\n",
    "ga = ui_combo[ui_combo[\"State\"] == 'Georgia']\n",
    "ga_2020 = ui_combo[(ui_combo[\"State\"]==\"Georgia\")&(ui_combo[\"State\"]==\"Georgia\")&(ui_combo[\"Period\"]==\"2020\")]\n",
    "\n",
    "# Create the X and Y axis list\n",
    "percentage = ga_base[\"Insured Unemployment Rate\"]\n",
    "month = ga_base[\"month\"]\n",
    "\n",
    "# Plot the charts\n",
    "unemployment = plt.plot(month, percentage, color=\"blue\", label=\"Insured Unemployment Rate\")\n",
    "\n",
    "# Add labels to X and Y axes and titles \n",
    "plt.title(\"Georgia 5 year Baseline vs 2020\")\n",
    "plt.xlabel(\"Months\")\n",
    "plt.ylabel(\"Unemployment (%)\")\n",
    "\n",
    "x_values = ga_2020[\"month\"]\n",
    "y_values = ga_2020[\"Insured Unemployment Rate\"]\n",
    "\n",
    "(slope, intercept, rvalue, pvalue, stderr) = linregress(x_values, y_values)\n",
    "regress_values = x_values * slope + intercept\n",
    "line_eq = \"y =\" + str(round(slope,2)) + \"x +\" + str(round(intercept,2))\n",
    "plt.annotate(line_eq, (7.5, 16), fontsize = 15, color=\"r\")\n",
    "\n",
    "plt.plot(x_values, y_values, color=\"orange\")\n",
    "print(f\"R Val is {rvalue**2}\")\n",
    "plt.show()"
   ]
  },
  {
   "cell_type": "code",
   "execution_count": 22,
   "metadata": {},
   "outputs": [
    {
     "name": "stdout",
     "output_type": "stream",
     "text": [
      "R Val is 0.6592724367946857\n"
     ]
    },
    {
     "data": {
      "image/png": "[encoded data removed]",
      "text/plain": [
       "<Figure size 432x288 with 1 Axes>"
      ]
     },
     "metadata": {
      "needs_background": "light"
     },
     "output_type": "display_data"
    }
   ],
   "source": [
    "md = ui_combo[ui_combo[\"State\"] == 'Maryland']\n",
    "md_base = ui_combo[(ui_combo[\"State\"]==\"Maryland\")&(ui_combo[\"State\"]==\"Maryland\")&(ui_combo[\"Period\"]==\"2015-2019 Avg\")]\n",
    "\n",
    "md = ui_combo[ui_combo[\"State\"] == 'Maryland']\n",
    "md_2020 = ui_combo[(ui_combo[\"State\"]==\"Maryland\")&(ui_combo[\"State\"]==\"Maryland\")&(ui_combo[\"Period\"]==\"2020\")]\n",
    "\n",
    "# Create the X and Y axis list\n",
    "percentage = md_base[\"Insured Unemployment Rate\"]\n",
    "month = md_base[\"month\"]\n",
    "\n",
    "# Plot the charts\n",
    "unemployment = plt.plot(month, percentage, color=\"blue\", label=\"Insured Unemployment Rate\")\n",
    "\n",
    "# Add labels to X and Y axes and titles \n",
    "plt.title(\"Maryland 5 year Baseline vs 2020\")\n",
    "plt.xlabel(\"Months\")\n",
    "plt.ylabel(\"Unemployment (%)\")\n",
    "\n",
    "x_values = md_2020[\"month\"]\n",
    "y_values = md_2020[\"Insured Unemployment Rate\"]\n",
    "\n",
    "(slope, intercept, rvalue, pvalue, stderr) = linregress(x_values, y_values)\n",
    "regress_values = x_values * slope + intercept\n",
    "line_eq = \"y =\" + str(round(slope,2)) + \"x +\" + str(round(intercept,2))\n",
    "plt.annotate(line_eq, (7.5, 9), fontsize = 15, color=\"r\")\n",
    "\n",
    "plt.plot(x_values, y_values, color=\"orange\")\n",
    "print(f\"R Val is {rvalue**2}\")\n",
    "plt.show()"
   ]
  },
  {
   "cell_type": "code",
   "execution_count": 23,
   "metadata": {},
   "outputs": [
    {
     "name": "stdout",
     "output_type": "stream",
     "text": [
      "R Val is 0.4835994124053357\n"
     ]
    },
    {
     "data": {
      "image/png": "[encoded data removed]",
      "text/plain": [
       "<Figure size 432x288 with 1 Axes>"
      ]
     },
     "metadata": {
      "needs_background": "light"
     },
     "output_type": "display_data"
    }
   ],
   "source": [
    "sd = ui_combo[ui_combo[\"State\"] == 'South Dakota']\n",
    "sd_base = ui_combo[(ui_combo[\"State\"]==\"South Dakota\")&(ui_combo[\"State\"]==\"South Dakota\")&(ui_combo[\"Period\"]==\"2015-2019 Avg\")]\n",
    "\n",
    "sd = ui_combo[ui_combo[\"State\"] == 'South Dakota']\n",
    "sd_2020 = ui_combo[(ui_combo[\"State\"]==\"South Dakota\")&(ui_combo[\"State\"]==\"South Dakota\")&(ui_combo[\"Period\"]==\"2020\")]\n",
    "\n",
    "# Create the X and Y axis list\n",
    "percentage = sd_base[\"Insured Unemployment Rate\"]\n",
    "month = sd_base[\"month\"]\n",
    "\n",
    "# Plot the charts\n",
    "unemployment = plt.plot(month, percentage, color=\"blue\", label=\"Insured Unemployment Rate\")\n",
    "\n",
    "# Add labels to X and Y axes and titles \n",
    "plt.title(\"South Dakota 5 year Baseline vs 2020\")\n",
    "plt.xlabel(\"Months\")\n",
    "plt.ylabel(\"Unemployment (%)\")\n",
    "\n",
    "x_values = sd_2020[\"month\"]\n",
    "y_values = sd_2020[\"Insured Unemployment Rate\"]\n",
    "\n",
    "(slope, intercept, rvalue, pvalue, stderr) = linregress(x_values, y_values)\n",
    "regress_values = x_values * slope + intercept\n",
    "line_eq = \"y =\" + str(round(slope,2)) + \"x +\" + str(round(intercept,2))\n",
    "plt.annotate(line_eq, (7.5, 5), fontsize = 15, color=\"r\")\n",
    "\n",
    "plt.plot(x_values, y_values, color=\"orange\")\n",
    "print(f\"R Val is {rvalue**2}\")\n",
    "plt.show()"
   ]
  },
  {
   "cell_type": "code",
   "execution_count": 25,
   "metadata": {},
   "outputs": [
    {
     "name": "stdout",
     "output_type": "stream",
     "text": [
      "R Val is 0.8013248036469138\n"
     ]
    },
    {
     "data": {
      "image/png": "[encoded data removed]",
      "text/plain": [
       "<Figure size 432x288 with 1 Axes>"
      ]
     },
     "metadata": {
      "needs_background": "light"
     },
     "output_type": "display_data"
    }
   ],
   "source": [
    "tx = ui_combo[ui_combo[\"State\"] == 'Texas']\n",
    "tx_base = ui_combo[(ui_combo[\"State\"]==\"Texas\")&(ui_combo[\"State\"]==\"Texas\")&(ui_combo[\"Period\"]==\"2015-2019 Avg\")]\n",
    "\n",
    "tx = ui_combo[ui_combo[\"State\"] == 'Texas']\n",
    "tx_2020 = ui_combo[(ui_combo[\"State\"]==\"Texas\")&(ui_combo[\"State\"]==\"Texas\")&(ui_combo[\"Period\"]==\"2020\")]\n",
    "\n",
    "# Create the X and Y axis list\n",
    "percentage = tx_base[\"Insured Unemployment Rate\"]\n",
    "month = tx_base[\"month\"]\n",
    "\n",
    "# Plot the charts\n",
    "unemployment = plt.plot(month, percentage, color=\"blue\", label=\"Insured Unemployment Rate\")\n",
    "\n",
    "# Add labels to X and Y axes and titles \n",
    "plt.title(\"Texas 5 year Baseline vs 2020\")\n",
    "plt.xlabel(\"Months\")\n",
    "plt.ylabel(\"Unemployment (%)\")\n",
    "\n",
    "x_values = tx_2020[\"month\"]\n",
    "y_values = tx_2020[\"Insured Unemployment Rate\"]\n",
    "\n",
    "(slope, intercept, rvalue, pvalue, stderr) = linregress(x_values, y_values)\n",
    "regress_values = x_values * slope + intercept\n",
    "line_eq = \"y =\" + str(round(slope,2)) + \"x +\" + str(round(intercept,2))\n",
    "plt.annotate(line_eq, (7.5, 8), fontsize = 15, color=\"r\")\n",
    "\n",
    "plt.plot(x_values, y_values, color=\"orange\")\n",
    "print(f\"R Val is {rvalue**2}\")\n",
    "plt.show()"
   ]
  }
 ],
 "metadata": {
  "kernelspec": {
   "display_name": "Python 3",
   "language": "python",
   "name": "python3"
  },
  "language_info": {
   "codemirror_mode": {
    "name": "ipython",
    "version": 3
   },
   "file_extension": ".py",
   "mimetype": "text/x-python",
   "name": "python",
   "nbconvert_exporter": "python",
   "pygments_lexer": "ipython3",
   "version": "3.8.5"
  }
 },
 "nbformat": 4,
 "nbformat_minor": 4
}
